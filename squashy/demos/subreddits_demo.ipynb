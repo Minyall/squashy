{
 "cells": [
  {
   "cell_type": "markdown",
   "source": [
    "# Squashy Subredit Demo\n"
   ],
   "metadata": {
    "collapsed": false
   }
  },
  {
   "cell_type": "code",
   "execution_count": 3,
   "outputs": [
    {
     "name": "stdout",
     "output_type": "stream",
     "text": [
      "Collecting wordcloud\r\n",
      "  Downloading wordcloud-1.9.1.1.tar.gz (222 kB)\r\n",
      "\u001B[2K     \u001B[90m━━━━━━━━━━━━━━━━━━━━━━━━━━━━━━━━━━━━━━━\u001B[0m \u001B[32m222.8/222.8 kB\u001B[0m \u001B[31m2.0 MB/s\u001B[0m eta \u001B[36m0:00:00\u001B[0ma \u001B[36m0:00:01\u001B[0m\r\n",
      "\u001B[?25h  Preparing metadata (setup.py) ... \u001B[?25ldone\r\n",
      "\u001B[?25hRequirement already satisfied: numpy>=1.6.1 in /Users/james/Library/Caches/pypoetry/virtualenvs/squashy-99OquK62-py3.10/lib/python3.10/site-packages (from wordcloud) (1.24.2)\r\n",
      "Requirement already satisfied: pillow in /Users/james/Library/Caches/pypoetry/virtualenvs/squashy-99OquK62-py3.10/lib/python3.10/site-packages (from wordcloud) (9.5.0)\r\n",
      "Requirement already satisfied: matplotlib in /Users/james/Library/Caches/pypoetry/virtualenvs/squashy-99OquK62-py3.10/lib/python3.10/site-packages (from wordcloud) (3.7.1)\r\n",
      "Requirement already satisfied: python-dateutil>=2.7 in /Users/james/Library/Caches/pypoetry/virtualenvs/squashy-99OquK62-py3.10/lib/python3.10/site-packages (from matplotlib->wordcloud) (2.8.2)\r\n",
      "Requirement already satisfied: cycler>=0.10 in /Users/james/Library/Caches/pypoetry/virtualenvs/squashy-99OquK62-py3.10/lib/python3.10/site-packages (from matplotlib->wordcloud) (0.11.0)\r\n",
      "Requirement already satisfied: contourpy>=1.0.1 in /Users/james/Library/Caches/pypoetry/virtualenvs/squashy-99OquK62-py3.10/lib/python3.10/site-packages (from matplotlib->wordcloud) (1.0.7)\r\n",
      "Requirement already satisfied: packaging>=20.0 in /Users/james/Library/Caches/pypoetry/virtualenvs/squashy-99OquK62-py3.10/lib/python3.10/site-packages (from matplotlib->wordcloud) (23.1)\r\n",
      "Requirement already satisfied: kiwisolver>=1.0.1 in /Users/james/Library/Caches/pypoetry/virtualenvs/squashy-99OquK62-py3.10/lib/python3.10/site-packages (from matplotlib->wordcloud) (1.4.4)\r\n",
      "Requirement already satisfied: fonttools>=4.22.0 in /Users/james/Library/Caches/pypoetry/virtualenvs/squashy-99OquK62-py3.10/lib/python3.10/site-packages (from matplotlib->wordcloud) (4.39.3)\r\n",
      "Requirement already satisfied: pyparsing>=2.3.1 in /Users/james/Library/Caches/pypoetry/virtualenvs/squashy-99OquK62-py3.10/lib/python3.10/site-packages (from matplotlib->wordcloud) (3.0.9)\r\n",
      "Requirement already satisfied: six>=1.5 in /Users/james/Library/Caches/pypoetry/virtualenvs/squashy-99OquK62-py3.10/lib/python3.10/site-packages (from python-dateutil>=2.7->matplotlib->wordcloud) (1.16.0)\r\n",
      "Building wheels for collected packages: wordcloud\r\n",
      "  Building wheel for wordcloud (setup.py) ... \u001B[?25ldone\r\n",
      "\u001B[?25h  Created wheel for wordcloud: filename=wordcloud-1.9.1.1-cp310-cp310-macosx_13_0_arm64.whl size=155637 sha256=261eb72ae16f31d915778460d8072761ac3750f4bf9e81792b2b4072880b7267\r\n",
      "  Stored in directory: /Users/james/Library/Caches/pip/wheels/30/ea/66/ee489514316741d85dc783d0dbd46e987171f3e63d666b1e6c\r\n",
      "Successfully built wordcloud\r\n",
      "Installing collected packages: wordcloud\r\n",
      "Successfully installed wordcloud-1.9.1.1\r\n",
      "\r\n",
      "\u001B[1m[\u001B[0m\u001B[34;49mnotice\u001B[0m\u001B[1;39;49m]\u001B[0m\u001B[39;49m A new release of pip is available: \u001B[0m\u001B[31;49m23.0.1\u001B[0m\u001B[39;49m -> \u001B[0m\u001B[32;49m23.1.2\u001B[0m\r\n",
      "\u001B[1m[\u001B[0m\u001B[34;49mnotice\u001B[0m\u001B[1;39;49m]\u001B[0m\u001B[39;49m To update, run: \u001B[0m\u001B[32;49mpip install --upgrade pip\u001B[0m\r\n"
     ]
    }
   ],
   "source": [
    "# Demo dependencies\n",
    "\n",
    "# ! pip install netwulf\n",
    "! pip install wordcloud"
   ],
   "metadata": {
    "collapsed": false,
    "ExecuteTime": {
     "start_time": "2023-05-01T20:43:07.721143Z",
     "end_time": "2023-05-01T20:43:10.491978Z"
    }
   }
  },
  {
   "cell_type": "code",
   "execution_count": 1,
   "outputs": [],
   "source": [
    "# Connect to Memgraph instance\n",
    "from mini_memgraph import Memgraph\n",
    "\n",
    "# Connect to instance\n",
    "db = Memgraph(address='localhost', port=7687)\n"
   ],
   "metadata": {
    "collapsed": false,
    "ExecuteTime": {
     "start_time": "2023-05-01T21:46:38.164054Z",
     "end_time": "2023-05-01T21:46:38.181218Z"
    }
   }
  },
  {
   "cell_type": "markdown",
   "source": [
    "# WARNING!\n",
    "This will replace all data in your memgraph instance. Please ensure you are using a new instance of Memgraph before proceeding."
   ],
   "metadata": {
    "collapsed": false
   }
  },
  {
   "cell_type": "markdown",
   "source": [
    "# Loading the Data\n",
    "The dataset is the Subreddit Hyperlink Network (body) available from [SNAP](https://snap.stanford.edu/data/soc-RedditHyperlinks.html).\n",
    "\n",
    "Download the dataset from [SNAP](https://snap.stanford.edu/data/soc-RedditHyperlinks.html) and drop the .tsv into the same folder as this notebook.\n",
    "\n",
    "```\n",
    "@inproceedings{kumar2018community,\n",
    "  title={Community interaction and conflict on the web},\n",
    "  author={Kumar, Srijan and Hamilton, William L and Leskovec, Jure and Jurafsky, Dan},\n",
    "  booktitle={Proceedings of the 2018 World Wide Web Conference on World Wide Web},\n",
    "  pages={933--943},\n",
    "  year={2018},\n",
    "  organization={International World Wide Web Conferences Steering Committee}\n",
    "}\n",
    "```"
   ],
   "metadata": {
    "collapsed": false
   }
  },
  {
   "cell_type": "code",
   "execution_count": 7,
   "outputs": [],
   "source": [
    "data_path = 'soc-redditHyperlinks-body.tsv'"
   ],
   "metadata": {
    "collapsed": false,
    "ExecuteTime": {
     "start_time": "2023-05-01T21:07:16.477865Z",
     "end_time": "2023-05-01T21:07:16.482323Z"
    }
   }
  },
  {
   "cell_type": "code",
   "execution_count": 8,
   "outputs": [],
   "source": [
    "import pandas as pd\n",
    "# Wipe existing data ready for import\n",
    "db.write('MATCH (n) DETACH DELETE n')\n",
    "\n",
    "# Set indexes\n",
    "db.set_index('SUBREDDIT')\n",
    "db.set_index('SUBREDDIT','id')\n",
    "db.set_constraint('SUBREDDIT','id')\n",
    "\n",
    "# Write all unique subreddit nodes\n",
    "nodes = set()\n",
    "with pd.read_csv(data_path, usecols=['SOURCE_SUBREDDIT','TARGET_SUBREDDIT'], sep='\\t', chunksize=10000) as reader:\n",
    "    for chunk in reader:\n",
    "        nodes.update(chunk['SOURCE_SUBREDDIT'].tolist())\n",
    "        nodes.update(chunk['TARGET_SUBREDDIT'].tolist())\n",
    "\n",
    "node_list = [{'id':node} for node in list(nodes)]\n",
    "db.write_nodes(node_list,id_val='id',label='SUBREDDIT')\n",
    "\n",
    "# Write subreddit to subreddit link relations\n",
    "# Edge frequencies are incremented for all duplicates found and saved as a 'weight' attribute\n",
    "rename_cols = {'SOURCE_SUBREDDIT':'source','TARGET_SUBREDDIT':'target'}\n",
    "with pd.read_csv(data_path,usecols=['SOURCE_SUBREDDIT','TARGET_SUBREDDIT'], sep='\\t', chunksize=10000) as reader:\n",
    "    for chunk in reader:\n",
    "        edge_list = chunk.rename(columns=rename_cols).to_dict(orient='records')\n",
    "        db.write_edges(edge_list,edge_label='LINKS_TO', source_label='SUBREDDIT',target_label='SUBREDDIT',\n",
    "                      on_duplicate_edges='increment')\n"
   ],
   "metadata": {
    "collapsed": false,
    "ExecuteTime": {
     "start_time": "2023-05-01T21:07:23.259066Z",
     "end_time": "2023-05-01T21:07:30.293407Z"
    }
   }
  },
  {
   "cell_type": "markdown",
   "source": [
    "# Identify Core Nodes"
   ],
   "metadata": {
    "collapsed": false
   }
  },
  {
   "cell_type": "code",
   "execution_count": 11,
   "outputs": [
    {
     "data": {
      "text/plain": "cores_identified:0 | graph_size:35,776 | n_remaining:35,776 | min_degree:1 | max_degree:2,524 | pass_:0 | loca…",
      "application/vnd.jupyter.widget-view+json": {
       "version_major": 2,
       "version_minor": 0,
       "model_id": "f7695fdc743347b383daf28ba8bbf6e9"
      }
     },
     "metadata": {},
     "output_type": "display_data"
    }
   ],
   "source": [
    "import squashy\n",
    "\n",
    "core_identifier = squashy.KCoreIdentifier(database=db,\n",
    "                                          node_label='SUBREDDIT',\n",
    "                                          rel_label='LINKS_TO',\n",
    "                                          k=2,\n",
    "                                          max_cores=500)\n",
    "core_identifier.identify_core_nodes()"
   ],
   "metadata": {
    "collapsed": false,
    "ExecuteTime": {
     "start_time": "2023-05-01T21:14:21.487595Z",
     "end_time": "2023-05-01T21:22:20.586725Z"
    }
   }
  },
  {
   "cell_type": "code",
   "execution_count": 12,
   "outputs": [
    {
     "name": "stdout",
     "output_type": "stream",
     "text": [
      "['cores_identified', 'graph_size', 'n_remaining', 'min_degree', 'max_degree', 'pass_']\n"
     ]
    }
   ],
   "source": [
    "print(core_identifier.metrics._major_fields)"
   ],
   "metadata": {
    "collapsed": false,
    "ExecuteTime": {
     "start_time": "2023-05-01T21:22:20.596311Z",
     "end_time": "2023-05-01T21:22:20.599536Z"
    }
   }
  },
  {
   "cell_type": "code",
   "execution_count": 14,
   "outputs": [
    {
     "data": {
      "application/vnd.plotly.v1+json": {
       "data": [
        {
         "hovertemplate": "pass_=%{x}<br>cores_identified=%{y}<extra></extra>",
         "legendgroup": "",
         "line": {
          "color": "#636efa",
          "dash": "solid"
         },
         "marker": {
          "symbol": "circle"
         },
         "mode": "lines",
         "name": "",
         "orientation": "v",
         "showlegend": false,
         "x": [
          0,
          1,
          2,
          3,
          4,
          5,
          6,
          7,
          8,
          9,
          10,
          11,
          12,
          13,
          14,
          15,
          16,
          17,
          18,
          19,
          20,
          21,
          22,
          23,
          24,
          25,
          26,
          27,
          28,
          29,
          30,
          31,
          32,
          33,
          34,
          35,
          36,
          37,
          38,
          39,
          40,
          41,
          42,
          43,
          44,
          45,
          46,
          47,
          48,
          49,
          50,
          51,
          52,
          53,
          54,
          55,
          56,
          57,
          58,
          59,
          60,
          61,
          62,
          63,
          64,
          65,
          66,
          67,
          68,
          69,
          70,
          71,
          72,
          73,
          74,
          75,
          76,
          77,
          78,
          79,
          80,
          81,
          82,
          83,
          84,
          85,
          86,
          87,
          88,
          89,
          90,
          91,
          92,
          93,
          94,
          95,
          96,
          97,
          98,
          99,
          100,
          101,
          102,
          103,
          104,
          105,
          106,
          107,
          108,
          109,
          110,
          111,
          112,
          113,
          114,
          115,
          116,
          117,
          118,
          119,
          120,
          121,
          122,
          123,
          124,
          125,
          126,
          127,
          128,
          129,
          130,
          131,
          132,
          133,
          134,
          135,
          136,
          137,
          138,
          139,
          140,
          141,
          142,
          143,
          144,
          145,
          146,
          147,
          148,
          149,
          150,
          151,
          152,
          153,
          154,
          155,
          156,
          157,
          158,
          159,
          160,
          161,
          162,
          163,
          164,
          165,
          166,
          167,
          168,
          169,
          170,
          171,
          172,
          173,
          174,
          175,
          176,
          177,
          178,
          179,
          180,
          181,
          182,
          183,
          184,
          185,
          186,
          187,
          188,
          189,
          190,
          191,
          192,
          193,
          194,
          195,
          196,
          197,
          198,
          199,
          200,
          201,
          202,
          203,
          204,
          205,
          206,
          207,
          208,
          209,
          210,
          211,
          212,
          213,
          214,
          215,
          216,
          217,
          218,
          219,
          220,
          221,
          222,
          223,
          224,
          225,
          226,
          227,
          228,
          229,
          230,
          231,
          232,
          233,
          234,
          235,
          236,
          237,
          238,
          239,
          240,
          241,
          242,
          243,
          244,
          245,
          246,
          247,
          248,
          249,
          250,
          251,
          252,
          253,
          254,
          255,
          256,
          257,
          258,
          259,
          260,
          261,
          262,
          263,
          264,
          265,
          266,
          267,
          268,
          269,
          270,
          271,
          272,
          273,
          274,
          275,
          276,
          277,
          278,
          279,
          280,
          281,
          282,
          283,
          284,
          285,
          286,
          287,
          288,
          289,
          290,
          291,
          292,
          293,
          294,
          295,
          296,
          297,
          298,
          299,
          300,
          301,
          302,
          303,
          304,
          305,
          306,
          307,
          308,
          309,
          310,
          311,
          312,
          313,
          314,
          315,
          316,
          317,
          318,
          319,
          320,
          321,
          322,
          323,
          324,
          325,
          326,
          327,
          328,
          329,
          330,
          331,
          332,
          333,
          334,
          335,
          336,
          337,
          338,
          339,
          340,
          341,
          342,
          343,
          344,
          345,
          346,
          347,
          348,
          349,
          350,
          351,
          352,
          353,
          354,
          355,
          356,
          357,
          358,
          359,
          360,
          361,
          362,
          363,
          364,
          365,
          366,
          367,
          368,
          369,
          370,
          371,
          372,
          373,
          374,
          375,
          376,
          377,
          378,
          379,
          380,
          381,
          382,
          383,
          384,
          385,
          386,
          387,
          388,
          389,
          390,
          391,
          392,
          393,
          394,
          395,
          396,
          397,
          398,
          399,
          400,
          401,
          402,
          403,
          404,
          405,
          406,
          407,
          408,
          409,
          410,
          411,
          412,
          413,
          414,
          415,
          416,
          417,
          418,
          419,
          420,
          421,
          422,
          423,
          424,
          425,
          426,
          427,
          428,
          429,
          430,
          431,
          432,
          433,
          434,
          435,
          436,
          437,
          438,
          439,
          440,
          441,
          442,
          443,
          444,
          445,
          446,
          447,
          448,
          449,
          450,
          451,
          452,
          453,
          454,
          455,
          456,
          457,
          458,
          459,
          460,
          461,
          462,
          463,
          464,
          465,
          466,
          467,
          468,
          469,
          470,
          471,
          472,
          473,
          474,
          475,
          476,
          477,
          478,
          479,
          480,
          481,
          482,
          483,
          484,
          485,
          486,
          487,
          488,
          489,
          490,
          491,
          492,
          493,
          494,
          495,
          496,
          497,
          498,
          499,
          500,
          501,
          502,
          503,
          504,
          505,
          506,
          507,
          508,
          509,
          510,
          511,
          512,
          513,
          514,
          515,
          516,
          517,
          518,
          519,
          520,
          521,
          522,
          523,
          524,
          525,
          526,
          527,
          528,
          529,
          530,
          531,
          532,
          533,
          534,
          535,
          536,
          537,
          538,
          539,
          540,
          541,
          542,
          543,
          544,
          545,
          546,
          547,
          548,
          549,
          550,
          551,
          552,
          553,
          554,
          555,
          556,
          557,
          558,
          559,
          560,
          561,
          562,
          563,
          564,
          565,
          566,
          567,
          568,
          569,
          570,
          571,
          572,
          573,
          574,
          575,
          576,
          577,
          578,
          579,
          580,
          581,
          582,
          583,
          584,
          585,
          586,
          587,
          588,
          589,
          590,
          591,
          592,
          593,
          594,
          595,
          596,
          597,
          598,
          599,
          600,
          601,
          602,
          603,
          604,
          605,
          606,
          607,
          608,
          609,
          610,
          611,
          612,
          613,
          614,
          615,
          616,
          617,
          618,
          619,
          620,
          621,
          622,
          623,
          624,
          625,
          626,
          627,
          628,
          629,
          630,
          631,
          632,
          633,
          634,
          635,
          636,
          637,
          638,
          639,
          640,
          641,
          642,
          643,
          644,
          645,
          646,
          647,
          648,
          649,
          650,
          651,
          652,
          653,
          654,
          655,
          656,
          657,
          658,
          659,
          660,
          661,
          662,
          663,
          664,
          665,
          666,
          667,
          668,
          669,
          670,
          671,
          672,
          673,
          674,
          675,
          676,
          677,
          678,
          679,
          680,
          681,
          682,
          683,
          684,
          685,
          686,
          687,
          688,
          689,
          690,
          691,
          692,
          693,
          694,
          695,
          696,
          697,
          698,
          699,
          700,
          701,
          702,
          703,
          704,
          705,
          706,
          707,
          708,
          709,
          710,
          711,
          712,
          713,
          714,
          715,
          716,
          717,
          718,
          719,
          720,
          721,
          722,
          723,
          724,
          725,
          726
         ],
         "xaxis": "x",
         "y": [
          0,
          0,
          0,
          1,
          1,
          1,
          2,
          3,
          3,
          4,
          4,
          5,
          5,
          6,
          7,
          7,
          8,
          8,
          9,
          9,
          10,
          11,
          12,
          13,
          14,
          14,
          15,
          15,
          16,
          16,
          17,
          17,
          18,
          19,
          20,
          21,
          21,
          22,
          23,
          23,
          24,
          24,
          25,
          26,
          26,
          27,
          27,
          28,
          29,
          30,
          30,
          31,
          32,
          33,
          34,
          34,
          35,
          36,
          37,
          37,
          38,
          39,
          39,
          40,
          40,
          40,
          41,
          42,
          42,
          43,
          43,
          44,
          44,
          45,
          45,
          46,
          46,
          47,
          48,
          48,
          49,
          50,
          51,
          52,
          52,
          53,
          54,
          55,
          55,
          55,
          56,
          56,
          57,
          57,
          57,
          58,
          58,
          58,
          59,
          60,
          61,
          61,
          62,
          63,
          63,
          64,
          65,
          66,
          66,
          67,
          67,
          68,
          69,
          69,
          70,
          71,
          72,
          72,
          73,
          74,
          74,
          75,
          75,
          76,
          76,
          77,
          78,
          79,
          80,
          81,
          81,
          82,
          83,
          84,
          85,
          86,
          87,
          88,
          89,
          90,
          91,
          91,
          92,
          93,
          94,
          95,
          96,
          96,
          97,
          97,
          98,
          98,
          99,
          99,
          99,
          100,
          101,
          101,
          102,
          103,
          103,
          103,
          104,
          104,
          104,
          105,
          106,
          107,
          108,
          108,
          108,
          109,
          109,
          109,
          109,
          110,
          111,
          112,
          112,
          113,
          114,
          115,
          116,
          116,
          117,
          118,
          119,
          119,
          120,
          120,
          121,
          122,
          123,
          123,
          124,
          125,
          125,
          126,
          127,
          128,
          128,
          129,
          129,
          130,
          130,
          131,
          132,
          133,
          133,
          134,
          135,
          136,
          137,
          137,
          138,
          139,
          139,
          140,
          140,
          141,
          142,
          142,
          143,
          144,
          144,
          145,
          146,
          146,
          147,
          147,
          148,
          149,
          149,
          150,
          150,
          151,
          151,
          152,
          152,
          153,
          153,
          153,
          154,
          155,
          155,
          156,
          156,
          156,
          157,
          158,
          158,
          159,
          160,
          160,
          160,
          161,
          162,
          163,
          163,
          164,
          164,
          165,
          166,
          166,
          167,
          168,
          169,
          170,
          171,
          172,
          173,
          174,
          174,
          175,
          176,
          177,
          178,
          179,
          179,
          180,
          181,
          182,
          183,
          184,
          185,
          186,
          187,
          187,
          187,
          188,
          188,
          189,
          189,
          190,
          191,
          192,
          193,
          193,
          193,
          194,
          194,
          195,
          196,
          196,
          197,
          197,
          198,
          199,
          200,
          200,
          201,
          202,
          203,
          204,
          204,
          205,
          205,
          205,
          206,
          207,
          207,
          208,
          209,
          210,
          210,
          211,
          211,
          211,
          212,
          212,
          212,
          212,
          213,
          213,
          214,
          214,
          215,
          216,
          216,
          217,
          218,
          219,
          220,
          220,
          221,
          222,
          223,
          224,
          224,
          225,
          226,
          227,
          227,
          227,
          228,
          228,
          229,
          230,
          231,
          232,
          233,
          234,
          235,
          236,
          236,
          237,
          238,
          239,
          240,
          241,
          241,
          242,
          242,
          243,
          244,
          245,
          245,
          246,
          247,
          248,
          248,
          249,
          249,
          250,
          250,
          251,
          251,
          251,
          252,
          253,
          253,
          254,
          255,
          256,
          257,
          257,
          258,
          258,
          259,
          259,
          260,
          260,
          261,
          262,
          263,
          264,
          265,
          266,
          267,
          268,
          269,
          270,
          271,
          272,
          274,
          274,
          275,
          276,
          277,
          278,
          279,
          279,
          280,
          280,
          281,
          281,
          282,
          283,
          284,
          285,
          286,
          286,
          287,
          289,
          290,
          290,
          291,
          292,
          293,
          294,
          294,
          295,
          295,
          296,
          296,
          297,
          297,
          298,
          299,
          300,
          301,
          302,
          303,
          304,
          305,
          306,
          307,
          307,
          308,
          309,
          309,
          310,
          311,
          311,
          312,
          313,
          314,
          315,
          317,
          317,
          318,
          319,
          319,
          320,
          320,
          321,
          321,
          322,
          323,
          324,
          325,
          325,
          327,
          327,
          328,
          328,
          329,
          330,
          331,
          332,
          333,
          333,
          334,
          335,
          336,
          337,
          337,
          339,
          340,
          341,
          342,
          343,
          343,
          344,
          345,
          346,
          346,
          347,
          348,
          349,
          349,
          350,
          350,
          351,
          351,
          353,
          354,
          355,
          355,
          356,
          356,
          357,
          358,
          359,
          360,
          360,
          361,
          362,
          363,
          364,
          365,
          366,
          367,
          368,
          368,
          368,
          369,
          369,
          370,
          371,
          372,
          373,
          374,
          376,
          377,
          378,
          379,
          379,
          380,
          380,
          381,
          381,
          382,
          382,
          382,
          382,
          382,
          383,
          383,
          383,
          384,
          385,
          385,
          385,
          386,
          386,
          386,
          386,
          387,
          388,
          389,
          390,
          390,
          391,
          392,
          392,
          393,
          394,
          395,
          395,
          396,
          397,
          397,
          398,
          399,
          400,
          401,
          402,
          404,
          405,
          406,
          406,
          407,
          407,
          407,
          408,
          409,
          409,
          410,
          411,
          412,
          413,
          413,
          413,
          414,
          416,
          416,
          417,
          417,
          417,
          418,
          418,
          419,
          419,
          420,
          421,
          421,
          422,
          423,
          423,
          424,
          425,
          426,
          426,
          427,
          427,
          428,
          428,
          429,
          430,
          432,
          432,
          433,
          434,
          435,
          436,
          436,
          436,
          437,
          438,
          438,
          439,
          440,
          440,
          441,
          442,
          443,
          443,
          444,
          445,
          446,
          448,
          449,
          450,
          451,
          451,
          451,
          452,
          452,
          453,
          454,
          455,
          456,
          457,
          457,
          457,
          458,
          458,
          459,
          459,
          460,
          461,
          462,
          462,
          463,
          464,
          465,
          466,
          467,
          467,
          469,
          470,
          470,
          471,
          472,
          472,
          472,
          473,
          473,
          474,
          475,
          475,
          476,
          476,
          477,
          477,
          478,
          478,
          480,
          481,
          482,
          482,
          483,
          484,
          484,
          485,
          486,
          487,
          488,
          488,
          489,
          489,
          489,
          491,
          492,
          492,
          493,
          494,
          494,
          495,
          496,
          496,
          497,
          497,
          498,
          499,
          500
         ],
         "yaxis": "y",
         "type": "scatter"
        }
       ],
       "layout": {
        "template": {
         "data": {
          "histogram2dcontour": [
           {
            "type": "histogram2dcontour",
            "colorbar": {
             "outlinewidth": 0,
             "ticks": ""
            },
            "colorscale": [
             [
              0.0,
              "#0d0887"
             ],
             [
              0.1111111111111111,
              "#46039f"
             ],
             [
              0.2222222222222222,
              "#7201a8"
             ],
             [
              0.3333333333333333,
              "#9c179e"
             ],
             [
              0.4444444444444444,
              "#bd3786"
             ],
             [
              0.5555555555555556,
              "#d8576b"
             ],
             [
              0.6666666666666666,
              "#ed7953"
             ],
             [
              0.7777777777777778,
              "#fb9f3a"
             ],
             [
              0.8888888888888888,
              "#fdca26"
             ],
             [
              1.0,
              "#f0f921"
             ]
            ]
           }
          ],
          "choropleth": [
           {
            "type": "choropleth",
            "colorbar": {
             "outlinewidth": 0,
             "ticks": ""
            }
           }
          ],
          "histogram2d": [
           {
            "type": "histogram2d",
            "colorbar": {
             "outlinewidth": 0,
             "ticks": ""
            },
            "colorscale": [
             [
              0.0,
              "#0d0887"
             ],
             [
              0.1111111111111111,
              "#46039f"
             ],
             [
              0.2222222222222222,
              "#7201a8"
             ],
             [
              0.3333333333333333,
              "#9c179e"
             ],
             [
              0.4444444444444444,
              "#bd3786"
             ],
             [
              0.5555555555555556,
              "#d8576b"
             ],
             [
              0.6666666666666666,
              "#ed7953"
             ],
             [
              0.7777777777777778,
              "#fb9f3a"
             ],
             [
              0.8888888888888888,
              "#fdca26"
             ],
             [
              1.0,
              "#f0f921"
             ]
            ]
           }
          ],
          "heatmap": [
           {
            "type": "heatmap",
            "colorbar": {
             "outlinewidth": 0,
             "ticks": ""
            },
            "colorscale": [
             [
              0.0,
              "#0d0887"
             ],
             [
              0.1111111111111111,
              "#46039f"
             ],
             [
              0.2222222222222222,
              "#7201a8"
             ],
             [
              0.3333333333333333,
              "#9c179e"
             ],
             [
              0.4444444444444444,
              "#bd3786"
             ],
             [
              0.5555555555555556,
              "#d8576b"
             ],
             [
              0.6666666666666666,
              "#ed7953"
             ],
             [
              0.7777777777777778,
              "#fb9f3a"
             ],
             [
              0.8888888888888888,
              "#fdca26"
             ],
             [
              1.0,
              "#f0f921"
             ]
            ]
           }
          ],
          "heatmapgl": [
           {
            "type": "heatmapgl",
            "colorbar": {
             "outlinewidth": 0,
             "ticks": ""
            },
            "colorscale": [
             [
              0.0,
              "#0d0887"
             ],
             [
              0.1111111111111111,
              "#46039f"
             ],
             [
              0.2222222222222222,
              "#7201a8"
             ],
             [
              0.3333333333333333,
              "#9c179e"
             ],
             [
              0.4444444444444444,
              "#bd3786"
             ],
             [
              0.5555555555555556,
              "#d8576b"
             ],
             [
              0.6666666666666666,
              "#ed7953"
             ],
             [
              0.7777777777777778,
              "#fb9f3a"
             ],
             [
              0.8888888888888888,
              "#fdca26"
             ],
             [
              1.0,
              "#f0f921"
             ]
            ]
           }
          ],
          "contourcarpet": [
           {
            "type": "contourcarpet",
            "colorbar": {
             "outlinewidth": 0,
             "ticks": ""
            }
           }
          ],
          "contour": [
           {
            "type": "contour",
            "colorbar": {
             "outlinewidth": 0,
             "ticks": ""
            },
            "colorscale": [
             [
              0.0,
              "#0d0887"
             ],
             [
              0.1111111111111111,
              "#46039f"
             ],
             [
              0.2222222222222222,
              "#7201a8"
             ],
             [
              0.3333333333333333,
              "#9c179e"
             ],
             [
              0.4444444444444444,
              "#bd3786"
             ],
             [
              0.5555555555555556,
              "#d8576b"
             ],
             [
              0.6666666666666666,
              "#ed7953"
             ],
             [
              0.7777777777777778,
              "#fb9f3a"
             ],
             [
              0.8888888888888888,
              "#fdca26"
             ],
             [
              1.0,
              "#f0f921"
             ]
            ]
           }
          ],
          "surface": [
           {
            "type": "surface",
            "colorbar": {
             "outlinewidth": 0,
             "ticks": ""
            },
            "colorscale": [
             [
              0.0,
              "#0d0887"
             ],
             [
              0.1111111111111111,
              "#46039f"
             ],
             [
              0.2222222222222222,
              "#7201a8"
             ],
             [
              0.3333333333333333,
              "#9c179e"
             ],
             [
              0.4444444444444444,
              "#bd3786"
             ],
             [
              0.5555555555555556,
              "#d8576b"
             ],
             [
              0.6666666666666666,
              "#ed7953"
             ],
             [
              0.7777777777777778,
              "#fb9f3a"
             ],
             [
              0.8888888888888888,
              "#fdca26"
             ],
             [
              1.0,
              "#f0f921"
             ]
            ]
           }
          ],
          "mesh3d": [
           {
            "type": "mesh3d",
            "colorbar": {
             "outlinewidth": 0,
             "ticks": ""
            }
           }
          ],
          "scatter": [
           {
            "fillpattern": {
             "fillmode": "overlay",
             "size": 10,
             "solidity": 0.2
            },
            "type": "scatter"
           }
          ],
          "parcoords": [
           {
            "type": "parcoords",
            "line": {
             "colorbar": {
              "outlinewidth": 0,
              "ticks": ""
             }
            }
           }
          ],
          "scatterpolargl": [
           {
            "type": "scatterpolargl",
            "marker": {
             "colorbar": {
              "outlinewidth": 0,
              "ticks": ""
             }
            }
           }
          ],
          "bar": [
           {
            "error_x": {
             "color": "#2a3f5f"
            },
            "error_y": {
             "color": "#2a3f5f"
            },
            "marker": {
             "line": {
              "color": "#E5ECF6",
              "width": 0.5
             },
             "pattern": {
              "fillmode": "overlay",
              "size": 10,
              "solidity": 0.2
             }
            },
            "type": "bar"
           }
          ],
          "scattergeo": [
           {
            "type": "scattergeo",
            "marker": {
             "colorbar": {
              "outlinewidth": 0,
              "ticks": ""
             }
            }
           }
          ],
          "scatterpolar": [
           {
            "type": "scatterpolar",
            "marker": {
             "colorbar": {
              "outlinewidth": 0,
              "ticks": ""
             }
            }
           }
          ],
          "histogram": [
           {
            "marker": {
             "pattern": {
              "fillmode": "overlay",
              "size": 10,
              "solidity": 0.2
             }
            },
            "type": "histogram"
           }
          ],
          "scattergl": [
           {
            "type": "scattergl",
            "marker": {
             "colorbar": {
              "outlinewidth": 0,
              "ticks": ""
             }
            }
           }
          ],
          "scatter3d": [
           {
            "type": "scatter3d",
            "line": {
             "colorbar": {
              "outlinewidth": 0,
              "ticks": ""
             }
            },
            "marker": {
             "colorbar": {
              "outlinewidth": 0,
              "ticks": ""
             }
            }
           }
          ],
          "scattermapbox": [
           {
            "type": "scattermapbox",
            "marker": {
             "colorbar": {
              "outlinewidth": 0,
              "ticks": ""
             }
            }
           }
          ],
          "scatterternary": [
           {
            "type": "scatterternary",
            "marker": {
             "colorbar": {
              "outlinewidth": 0,
              "ticks": ""
             }
            }
           }
          ],
          "scattercarpet": [
           {
            "type": "scattercarpet",
            "marker": {
             "colorbar": {
              "outlinewidth": 0,
              "ticks": ""
             }
            }
           }
          ],
          "carpet": [
           {
            "aaxis": {
             "endlinecolor": "#2a3f5f",
             "gridcolor": "white",
             "linecolor": "white",
             "minorgridcolor": "white",
             "startlinecolor": "#2a3f5f"
            },
            "baxis": {
             "endlinecolor": "#2a3f5f",
             "gridcolor": "white",
             "linecolor": "white",
             "minorgridcolor": "white",
             "startlinecolor": "#2a3f5f"
            },
            "type": "carpet"
           }
          ],
          "table": [
           {
            "cells": {
             "fill": {
              "color": "#EBF0F8"
             },
             "line": {
              "color": "white"
             }
            },
            "header": {
             "fill": {
              "color": "#C8D4E3"
             },
             "line": {
              "color": "white"
             }
            },
            "type": "table"
           }
          ],
          "barpolar": [
           {
            "marker": {
             "line": {
              "color": "#E5ECF6",
              "width": 0.5
             },
             "pattern": {
              "fillmode": "overlay",
              "size": 10,
              "solidity": 0.2
             }
            },
            "type": "barpolar"
           }
          ],
          "pie": [
           {
            "automargin": true,
            "type": "pie"
           }
          ]
         },
         "layout": {
          "autotypenumbers": "strict",
          "colorway": [
           "#636efa",
           "#EF553B",
           "#00cc96",
           "#ab63fa",
           "#FFA15A",
           "#19d3f3",
           "#FF6692",
           "#B6E880",
           "#FF97FF",
           "#FECB52"
          ],
          "font": {
           "color": "#2a3f5f"
          },
          "hovermode": "closest",
          "hoverlabel": {
           "align": "left"
          },
          "paper_bgcolor": "white",
          "plot_bgcolor": "#E5ECF6",
          "polar": {
           "bgcolor": "#E5ECF6",
           "angularaxis": {
            "gridcolor": "white",
            "linecolor": "white",
            "ticks": ""
           },
           "radialaxis": {
            "gridcolor": "white",
            "linecolor": "white",
            "ticks": ""
           }
          },
          "ternary": {
           "bgcolor": "#E5ECF6",
           "aaxis": {
            "gridcolor": "white",
            "linecolor": "white",
            "ticks": ""
           },
           "baxis": {
            "gridcolor": "white",
            "linecolor": "white",
            "ticks": ""
           },
           "caxis": {
            "gridcolor": "white",
            "linecolor": "white",
            "ticks": ""
           }
          },
          "coloraxis": {
           "colorbar": {
            "outlinewidth": 0,
            "ticks": ""
           }
          },
          "colorscale": {
           "sequential": [
            [
             0.0,
             "#0d0887"
            ],
            [
             0.1111111111111111,
             "#46039f"
            ],
            [
             0.2222222222222222,
             "#7201a8"
            ],
            [
             0.3333333333333333,
             "#9c179e"
            ],
            [
             0.4444444444444444,
             "#bd3786"
            ],
            [
             0.5555555555555556,
             "#d8576b"
            ],
            [
             0.6666666666666666,
             "#ed7953"
            ],
            [
             0.7777777777777778,
             "#fb9f3a"
            ],
            [
             0.8888888888888888,
             "#fdca26"
            ],
            [
             1.0,
             "#f0f921"
            ]
           ],
           "sequentialminus": [
            [
             0.0,
             "#0d0887"
            ],
            [
             0.1111111111111111,
             "#46039f"
            ],
            [
             0.2222222222222222,
             "#7201a8"
            ],
            [
             0.3333333333333333,
             "#9c179e"
            ],
            [
             0.4444444444444444,
             "#bd3786"
            ],
            [
             0.5555555555555556,
             "#d8576b"
            ],
            [
             0.6666666666666666,
             "#ed7953"
            ],
            [
             0.7777777777777778,
             "#fb9f3a"
            ],
            [
             0.8888888888888888,
             "#fdca26"
            ],
            [
             1.0,
             "#f0f921"
            ]
           ],
           "diverging": [
            [
             0,
             "#8e0152"
            ],
            [
             0.1,
             "#c51b7d"
            ],
            [
             0.2,
             "#de77ae"
            ],
            [
             0.3,
             "#f1b6da"
            ],
            [
             0.4,
             "#fde0ef"
            ],
            [
             0.5,
             "#f7f7f7"
            ],
            [
             0.6,
             "#e6f5d0"
            ],
            [
             0.7,
             "#b8e186"
            ],
            [
             0.8,
             "#7fbc41"
            ],
            [
             0.9,
             "#4d9221"
            ],
            [
             1,
             "#276419"
            ]
           ]
          },
          "xaxis": {
           "gridcolor": "white",
           "linecolor": "white",
           "ticks": "",
           "title": {
            "standoff": 15
           },
           "zerolinecolor": "white",
           "automargin": true,
           "zerolinewidth": 2
          },
          "yaxis": {
           "gridcolor": "white",
           "linecolor": "white",
           "ticks": "",
           "title": {
            "standoff": 15
           },
           "zerolinecolor": "white",
           "automargin": true,
           "zerolinewidth": 2
          },
          "scene": {
           "xaxis": {
            "backgroundcolor": "#E5ECF6",
            "gridcolor": "white",
            "linecolor": "white",
            "showbackground": true,
            "ticks": "",
            "zerolinecolor": "white",
            "gridwidth": 2
           },
           "yaxis": {
            "backgroundcolor": "#E5ECF6",
            "gridcolor": "white",
            "linecolor": "white",
            "showbackground": true,
            "ticks": "",
            "zerolinecolor": "white",
            "gridwidth": 2
           },
           "zaxis": {
            "backgroundcolor": "#E5ECF6",
            "gridcolor": "white",
            "linecolor": "white",
            "showbackground": true,
            "ticks": "",
            "zerolinecolor": "white",
            "gridwidth": 2
           }
          },
          "shapedefaults": {
           "line": {
            "color": "#2a3f5f"
           }
          },
          "annotationdefaults": {
           "arrowcolor": "#2a3f5f",
           "arrowhead": 0,
           "arrowwidth": 1
          },
          "geo": {
           "bgcolor": "white",
           "landcolor": "#E5ECF6",
           "subunitcolor": "white",
           "showland": true,
           "showlakes": true,
           "lakecolor": "white"
          },
          "title": {
           "x": 0.05
          },
          "mapbox": {
           "style": "light"
          }
         }
        },
        "xaxis": {
         "anchor": "y",
         "domain": [
          0.0,
          1.0
         ],
         "title": {
          "text": "pass_"
         }
        },
        "yaxis": {
         "anchor": "x",
         "domain": [
          0.0,
          1.0
         ],
         "title": {
          "text": "cores_identified"
         }
        },
        "legend": {
         "tracegroupgap": 0
        },
        "margin": {
         "t": 60
        }
       },
       "config": {
        "plotlyServerURL": "https://plot.ly"
       }
      },
      "text/html": "<div>                            <div id=\"80a6c053-34c7-4377-bafc-68e26f968c33\" class=\"plotly-graph-div\" style=\"height:525px; width:100%;\"></div>            <script type=\"text/javascript\">                require([\"plotly\"], function(Plotly) {                    window.PLOTLYENV=window.PLOTLYENV || {};                                    if (document.getElementById(\"80a6c053-34c7-4377-bafc-68e26f968c33\")) {                    Plotly.newPlot(                        \"80a6c053-34c7-4377-bafc-68e26f968c33\",                        [{\"hovertemplate\":\"pass_=%{x}<br>cores_identified=%{y}<extra></extra>\",\"legendgroup\":\"\",\"line\":{\"color\":\"#636efa\",\"dash\":\"solid\"},\"marker\":{\"symbol\":\"circle\"},\"mode\":\"lines\",\"name\":\"\",\"orientation\":\"v\",\"showlegend\":false,\"x\":[0,1,2,3,4,5,6,7,8,9,10,11,12,13,14,15,16,17,18,19,20,21,22,23,24,25,26,27,28,29,30,31,32,33,34,35,36,37,38,39,40,41,42,43,44,45,46,47,48,49,50,51,52,53,54,55,56,57,58,59,60,61,62,63,64,65,66,67,68,69,70,71,72,73,74,75,76,77,78,79,80,81,82,83,84,85,86,87,88,89,90,91,92,93,94,95,96,97,98,99,100,101,102,103,104,105,106,107,108,109,110,111,112,113,114,115,116,117,118,119,120,121,122,123,124,125,126,127,128,129,130,131,132,133,134,135,136,137,138,139,140,141,142,143,144,145,146,147,148,149,150,151,152,153,154,155,156,157,158,159,160,161,162,163,164,165,166,167,168,169,170,171,172,173,174,175,176,177,178,179,180,181,182,183,184,185,186,187,188,189,190,191,192,193,194,195,196,197,198,199,200,201,202,203,204,205,206,207,208,209,210,211,212,213,214,215,216,217,218,219,220,221,222,223,224,225,226,227,228,229,230,231,232,233,234,235,236,237,238,239,240,241,242,243,244,245,246,247,248,249,250,251,252,253,254,255,256,257,258,259,260,261,262,263,264,265,266,267,268,269,270,271,272,273,274,275,276,277,278,279,280,281,282,283,284,285,286,287,288,289,290,291,292,293,294,295,296,297,298,299,300,301,302,303,304,305,306,307,308,309,310,311,312,313,314,315,316,317,318,319,320,321,322,323,324,325,326,327,328,329,330,331,332,333,334,335,336,337,338,339,340,341,342,343,344,345,346,347,348,349,350,351,352,353,354,355,356,357,358,359,360,361,362,363,364,365,366,367,368,369,370,371,372,373,374,375,376,377,378,379,380,381,382,383,384,385,386,387,388,389,390,391,392,393,394,395,396,397,398,399,400,401,402,403,404,405,406,407,408,409,410,411,412,413,414,415,416,417,418,419,420,421,422,423,424,425,426,427,428,429,430,431,432,433,434,435,436,437,438,439,440,441,442,443,444,445,446,447,448,449,450,451,452,453,454,455,456,457,458,459,460,461,462,463,464,465,466,467,468,469,470,471,472,473,474,475,476,477,478,479,480,481,482,483,484,485,486,487,488,489,490,491,492,493,494,495,496,497,498,499,500,501,502,503,504,505,506,507,508,509,510,511,512,513,514,515,516,517,518,519,520,521,522,523,524,525,526,527,528,529,530,531,532,533,534,535,536,537,538,539,540,541,542,543,544,545,546,547,548,549,550,551,552,553,554,555,556,557,558,559,560,561,562,563,564,565,566,567,568,569,570,571,572,573,574,575,576,577,578,579,580,581,582,583,584,585,586,587,588,589,590,591,592,593,594,595,596,597,598,599,600,601,602,603,604,605,606,607,608,609,610,611,612,613,614,615,616,617,618,619,620,621,622,623,624,625,626,627,628,629,630,631,632,633,634,635,636,637,638,639,640,641,642,643,644,645,646,647,648,649,650,651,652,653,654,655,656,657,658,659,660,661,662,663,664,665,666,667,668,669,670,671,672,673,674,675,676,677,678,679,680,681,682,683,684,685,686,687,688,689,690,691,692,693,694,695,696,697,698,699,700,701,702,703,704,705,706,707,708,709,710,711,712,713,714,715,716,717,718,719,720,721,722,723,724,725,726],\"xaxis\":\"x\",\"y\":[0,0,0,1,1,1,2,3,3,4,4,5,5,6,7,7,8,8,9,9,10,11,12,13,14,14,15,15,16,16,17,17,18,19,20,21,21,22,23,23,24,24,25,26,26,27,27,28,29,30,30,31,32,33,34,34,35,36,37,37,38,39,39,40,40,40,41,42,42,43,43,44,44,45,45,46,46,47,48,48,49,50,51,52,52,53,54,55,55,55,56,56,57,57,57,58,58,58,59,60,61,61,62,63,63,64,65,66,66,67,67,68,69,69,70,71,72,72,73,74,74,75,75,76,76,77,78,79,80,81,81,82,83,84,85,86,87,88,89,90,91,91,92,93,94,95,96,96,97,97,98,98,99,99,99,100,101,101,102,103,103,103,104,104,104,105,106,107,108,108,108,109,109,109,109,110,111,112,112,113,114,115,116,116,117,118,119,119,120,120,121,122,123,123,124,125,125,126,127,128,128,129,129,130,130,131,132,133,133,134,135,136,137,137,138,139,139,140,140,141,142,142,143,144,144,145,146,146,147,147,148,149,149,150,150,151,151,152,152,153,153,153,154,155,155,156,156,156,157,158,158,159,160,160,160,161,162,163,163,164,164,165,166,166,167,168,169,170,171,172,173,174,174,175,176,177,178,179,179,180,181,182,183,184,185,186,187,187,187,188,188,189,189,190,191,192,193,193,193,194,194,195,196,196,197,197,198,199,200,200,201,202,203,204,204,205,205,205,206,207,207,208,209,210,210,211,211,211,212,212,212,212,213,213,214,214,215,216,216,217,218,219,220,220,221,222,223,224,224,225,226,227,227,227,228,228,229,230,231,232,233,234,235,236,236,237,238,239,240,241,241,242,242,243,244,245,245,246,247,248,248,249,249,250,250,251,251,251,252,253,253,254,255,256,257,257,258,258,259,259,260,260,261,262,263,264,265,266,267,268,269,270,271,272,274,274,275,276,277,278,279,279,280,280,281,281,282,283,284,285,286,286,287,289,290,290,291,292,293,294,294,295,295,296,296,297,297,298,299,300,301,302,303,304,305,306,307,307,308,309,309,310,311,311,312,313,314,315,317,317,318,319,319,320,320,321,321,322,323,324,325,325,327,327,328,328,329,330,331,332,333,333,334,335,336,337,337,339,340,341,342,343,343,344,345,346,346,347,348,349,349,350,350,351,351,353,354,355,355,356,356,357,358,359,360,360,361,362,363,364,365,366,367,368,368,368,369,369,370,371,372,373,374,376,377,378,379,379,380,380,381,381,382,382,382,382,382,383,383,383,384,385,385,385,386,386,386,386,387,388,389,390,390,391,392,392,393,394,395,395,396,397,397,398,399,400,401,402,404,405,406,406,407,407,407,408,409,409,410,411,412,413,413,413,414,416,416,417,417,417,418,418,419,419,420,421,421,422,423,423,424,425,426,426,427,427,428,428,429,430,432,432,433,434,435,436,436,436,437,438,438,439,440,440,441,442,443,443,444,445,446,448,449,450,451,451,451,452,452,453,454,455,456,457,457,457,458,458,459,459,460,461,462,462,463,464,465,466,467,467,469,470,470,471,472,472,472,473,473,474,475,475,476,476,477,477,478,478,480,481,482,482,483,484,484,485,486,487,488,488,489,489,489,491,492,492,493,494,494,495,496,496,497,497,498,499,500],\"yaxis\":\"y\",\"type\":\"scatter\"}],                        {\"template\":{\"data\":{\"histogram2dcontour\":[{\"type\":\"histogram2dcontour\",\"colorbar\":{\"outlinewidth\":0,\"ticks\":\"\"},\"colorscale\":[[0.0,\"#0d0887\"],[0.1111111111111111,\"#46039f\"],[0.2222222222222222,\"#7201a8\"],[0.3333333333333333,\"#9c179e\"],[0.4444444444444444,\"#bd3786\"],[0.5555555555555556,\"#d8576b\"],[0.6666666666666666,\"#ed7953\"],[0.7777777777777778,\"#fb9f3a\"],[0.8888888888888888,\"#fdca26\"],[1.0,\"#f0f921\"]]}],\"choropleth\":[{\"type\":\"choropleth\",\"colorbar\":{\"outlinewidth\":0,\"ticks\":\"\"}}],\"histogram2d\":[{\"type\":\"histogram2d\",\"colorbar\":{\"outlinewidth\":0,\"ticks\":\"\"},\"colorscale\":[[0.0,\"#0d0887\"],[0.1111111111111111,\"#46039f\"],[0.2222222222222222,\"#7201a8\"],[0.3333333333333333,\"#9c179e\"],[0.4444444444444444,\"#bd3786\"],[0.5555555555555556,\"#d8576b\"],[0.6666666666666666,\"#ed7953\"],[0.7777777777777778,\"#fb9f3a\"],[0.8888888888888888,\"#fdca26\"],[1.0,\"#f0f921\"]]}],\"heatmap\":[{\"type\":\"heatmap\",\"colorbar\":{\"outlinewidth\":0,\"ticks\":\"\"},\"colorscale\":[[0.0,\"#0d0887\"],[0.1111111111111111,\"#46039f\"],[0.2222222222222222,\"#7201a8\"],[0.3333333333333333,\"#9c179e\"],[0.4444444444444444,\"#bd3786\"],[0.5555555555555556,\"#d8576b\"],[0.6666666666666666,\"#ed7953\"],[0.7777777777777778,\"#fb9f3a\"],[0.8888888888888888,\"#fdca26\"],[1.0,\"#f0f921\"]]}],\"heatmapgl\":[{\"type\":\"heatmapgl\",\"colorbar\":{\"outlinewidth\":0,\"ticks\":\"\"},\"colorscale\":[[0.0,\"#0d0887\"],[0.1111111111111111,\"#46039f\"],[0.2222222222222222,\"#7201a8\"],[0.3333333333333333,\"#9c179e\"],[0.4444444444444444,\"#bd3786\"],[0.5555555555555556,\"#d8576b\"],[0.6666666666666666,\"#ed7953\"],[0.7777777777777778,\"#fb9f3a\"],[0.8888888888888888,\"#fdca26\"],[1.0,\"#f0f921\"]]}],\"contourcarpet\":[{\"type\":\"contourcarpet\",\"colorbar\":{\"outlinewidth\":0,\"ticks\":\"\"}}],\"contour\":[{\"type\":\"contour\",\"colorbar\":{\"outlinewidth\":0,\"ticks\":\"\"},\"colorscale\":[[0.0,\"#0d0887\"],[0.1111111111111111,\"#46039f\"],[0.2222222222222222,\"#7201a8\"],[0.3333333333333333,\"#9c179e\"],[0.4444444444444444,\"#bd3786\"],[0.5555555555555556,\"#d8576b\"],[0.6666666666666666,\"#ed7953\"],[0.7777777777777778,\"#fb9f3a\"],[0.8888888888888888,\"#fdca26\"],[1.0,\"#f0f921\"]]}],\"surface\":[{\"type\":\"surface\",\"colorbar\":{\"outlinewidth\":0,\"ticks\":\"\"},\"colorscale\":[[0.0,\"#0d0887\"],[0.1111111111111111,\"#46039f\"],[0.2222222222222222,\"#7201a8\"],[0.3333333333333333,\"#9c179e\"],[0.4444444444444444,\"#bd3786\"],[0.5555555555555556,\"#d8576b\"],[0.6666666666666666,\"#ed7953\"],[0.7777777777777778,\"#fb9f3a\"],[0.8888888888888888,\"#fdca26\"],[1.0,\"#f0f921\"]]}],\"mesh3d\":[{\"type\":\"mesh3d\",\"colorbar\":{\"outlinewidth\":0,\"ticks\":\"\"}}],\"scatter\":[{\"fillpattern\":{\"fillmode\":\"overlay\",\"size\":10,\"solidity\":0.2},\"type\":\"scatter\"}],\"parcoords\":[{\"type\":\"parcoords\",\"line\":{\"colorbar\":{\"outlinewidth\":0,\"ticks\":\"\"}}}],\"scatterpolargl\":[{\"type\":\"scatterpolargl\",\"marker\":{\"colorbar\":{\"outlinewidth\":0,\"ticks\":\"\"}}}],\"bar\":[{\"error_x\":{\"color\":\"#2a3f5f\"},\"error_y\":{\"color\":\"#2a3f5f\"},\"marker\":{\"line\":{\"color\":\"#E5ECF6\",\"width\":0.5},\"pattern\":{\"fillmode\":\"overlay\",\"size\":10,\"solidity\":0.2}},\"type\":\"bar\"}],\"scattergeo\":[{\"type\":\"scattergeo\",\"marker\":{\"colorbar\":{\"outlinewidth\":0,\"ticks\":\"\"}}}],\"scatterpolar\":[{\"type\":\"scatterpolar\",\"marker\":{\"colorbar\":{\"outlinewidth\":0,\"ticks\":\"\"}}}],\"histogram\":[{\"marker\":{\"pattern\":{\"fillmode\":\"overlay\",\"size\":10,\"solidity\":0.2}},\"type\":\"histogram\"}],\"scattergl\":[{\"type\":\"scattergl\",\"marker\":{\"colorbar\":{\"outlinewidth\":0,\"ticks\":\"\"}}}],\"scatter3d\":[{\"type\":\"scatter3d\",\"line\":{\"colorbar\":{\"outlinewidth\":0,\"ticks\":\"\"}},\"marker\":{\"colorbar\":{\"outlinewidth\":0,\"ticks\":\"\"}}}],\"scattermapbox\":[{\"type\":\"scattermapbox\",\"marker\":{\"colorbar\":{\"outlinewidth\":0,\"ticks\":\"\"}}}],\"scatterternary\":[{\"type\":\"scatterternary\",\"marker\":{\"colorbar\":{\"outlinewidth\":0,\"ticks\":\"\"}}}],\"scattercarpet\":[{\"type\":\"scattercarpet\",\"marker\":{\"colorbar\":{\"outlinewidth\":0,\"ticks\":\"\"}}}],\"carpet\":[{\"aaxis\":{\"endlinecolor\":\"#2a3f5f\",\"gridcolor\":\"white\",\"linecolor\":\"white\",\"minorgridcolor\":\"white\",\"startlinecolor\":\"#2a3f5f\"},\"baxis\":{\"endlinecolor\":\"#2a3f5f\",\"gridcolor\":\"white\",\"linecolor\":\"white\",\"minorgridcolor\":\"white\",\"startlinecolor\":\"#2a3f5f\"},\"type\":\"carpet\"}],\"table\":[{\"cells\":{\"fill\":{\"color\":\"#EBF0F8\"},\"line\":{\"color\":\"white\"}},\"header\":{\"fill\":{\"color\":\"#C8D4E3\"},\"line\":{\"color\":\"white\"}},\"type\":\"table\"}],\"barpolar\":[{\"marker\":{\"line\":{\"color\":\"#E5ECF6\",\"width\":0.5},\"pattern\":{\"fillmode\":\"overlay\",\"size\":10,\"solidity\":0.2}},\"type\":\"barpolar\"}],\"pie\":[{\"automargin\":true,\"type\":\"pie\"}]},\"layout\":{\"autotypenumbers\":\"strict\",\"colorway\":[\"#636efa\",\"#EF553B\",\"#00cc96\",\"#ab63fa\",\"#FFA15A\",\"#19d3f3\",\"#FF6692\",\"#B6E880\",\"#FF97FF\",\"#FECB52\"],\"font\":{\"color\":\"#2a3f5f\"},\"hovermode\":\"closest\",\"hoverlabel\":{\"align\":\"left\"},\"paper_bgcolor\":\"white\",\"plot_bgcolor\":\"#E5ECF6\",\"polar\":{\"bgcolor\":\"#E5ECF6\",\"angularaxis\":{\"gridcolor\":\"white\",\"linecolor\":\"white\",\"ticks\":\"\"},\"radialaxis\":{\"gridcolor\":\"white\",\"linecolor\":\"white\",\"ticks\":\"\"}},\"ternary\":{\"bgcolor\":\"#E5ECF6\",\"aaxis\":{\"gridcolor\":\"white\",\"linecolor\":\"white\",\"ticks\":\"\"},\"baxis\":{\"gridcolor\":\"white\",\"linecolor\":\"white\",\"ticks\":\"\"},\"caxis\":{\"gridcolor\":\"white\",\"linecolor\":\"white\",\"ticks\":\"\"}},\"coloraxis\":{\"colorbar\":{\"outlinewidth\":0,\"ticks\":\"\"}},\"colorscale\":{\"sequential\":[[0.0,\"#0d0887\"],[0.1111111111111111,\"#46039f\"],[0.2222222222222222,\"#7201a8\"],[0.3333333333333333,\"#9c179e\"],[0.4444444444444444,\"#bd3786\"],[0.5555555555555556,\"#d8576b\"],[0.6666666666666666,\"#ed7953\"],[0.7777777777777778,\"#fb9f3a\"],[0.8888888888888888,\"#fdca26\"],[1.0,\"#f0f921\"]],\"sequentialminus\":[[0.0,\"#0d0887\"],[0.1111111111111111,\"#46039f\"],[0.2222222222222222,\"#7201a8\"],[0.3333333333333333,\"#9c179e\"],[0.4444444444444444,\"#bd3786\"],[0.5555555555555556,\"#d8576b\"],[0.6666666666666666,\"#ed7953\"],[0.7777777777777778,\"#fb9f3a\"],[0.8888888888888888,\"#fdca26\"],[1.0,\"#f0f921\"]],\"diverging\":[[0,\"#8e0152\"],[0.1,\"#c51b7d\"],[0.2,\"#de77ae\"],[0.3,\"#f1b6da\"],[0.4,\"#fde0ef\"],[0.5,\"#f7f7f7\"],[0.6,\"#e6f5d0\"],[0.7,\"#b8e186\"],[0.8,\"#7fbc41\"],[0.9,\"#4d9221\"],[1,\"#276419\"]]},\"xaxis\":{\"gridcolor\":\"white\",\"linecolor\":\"white\",\"ticks\":\"\",\"title\":{\"standoff\":15},\"zerolinecolor\":\"white\",\"automargin\":true,\"zerolinewidth\":2},\"yaxis\":{\"gridcolor\":\"white\",\"linecolor\":\"white\",\"ticks\":\"\",\"title\":{\"standoff\":15},\"zerolinecolor\":\"white\",\"automargin\":true,\"zerolinewidth\":2},\"scene\":{\"xaxis\":{\"backgroundcolor\":\"#E5ECF6\",\"gridcolor\":\"white\",\"linecolor\":\"white\",\"showbackground\":true,\"ticks\":\"\",\"zerolinecolor\":\"white\",\"gridwidth\":2},\"yaxis\":{\"backgroundcolor\":\"#E5ECF6\",\"gridcolor\":\"white\",\"linecolor\":\"white\",\"showbackground\":true,\"ticks\":\"\",\"zerolinecolor\":\"white\",\"gridwidth\":2},\"zaxis\":{\"backgroundcolor\":\"#E5ECF6\",\"gridcolor\":\"white\",\"linecolor\":\"white\",\"showbackground\":true,\"ticks\":\"\",\"zerolinecolor\":\"white\",\"gridwidth\":2}},\"shapedefaults\":{\"line\":{\"color\":\"#2a3f5f\"}},\"annotationdefaults\":{\"arrowcolor\":\"#2a3f5f\",\"arrowhead\":0,\"arrowwidth\":1},\"geo\":{\"bgcolor\":\"white\",\"landcolor\":\"#E5ECF6\",\"subunitcolor\":\"white\",\"showland\":true,\"showlakes\":true,\"lakecolor\":\"white\"},\"title\":{\"x\":0.05},\"mapbox\":{\"style\":\"light\"}}},\"xaxis\":{\"anchor\":\"y\",\"domain\":[0.0,1.0],\"title\":{\"text\":\"pass_\"}},\"yaxis\":{\"anchor\":\"x\",\"domain\":[0.0,1.0],\"title\":{\"text\":\"cores_identified\"}},\"legend\":{\"tracegroupgap\":0},\"margin\":{\"t\":60}},                        {\"responsive\": true}                    ).then(function(){\n                            \nvar gd = document.getElementById('80a6c053-34c7-4377-bafc-68e26f968c33');\nvar x = new MutationObserver(function (mutations, observer) {{\n        var display = window.getComputedStyle(gd).display;\n        if (!display || display === 'none') {{\n            console.log([gd, 'removed!']);\n            Plotly.purge(gd);\n            observer.disconnect();\n        }}\n}});\n\n// Listen for the removal of the full notebook cells\nvar notebookContainer = gd.closest('#notebook-container');\nif (notebookContainer) {{\n    x.observe(notebookContainer, {childList: true});\n}}\n\n// Listen for the clearing of the current output cell\nvar outputEl = gd.closest('.output');\nif (outputEl) {{\n    x.observe(outputEl, {childList: true});\n}}\n\n                        })                };                });            </script>        </div>"
     },
     "metadata": {},
     "output_type": "display_data"
    }
   ],
   "source": [
    "fig = core_identifier.metrics.visualize(x='pass_',y='cores_identified')\n",
    "fig.show()\n"
   ],
   "metadata": {
    "collapsed": false,
    "ExecuteTime": {
     "start_time": "2023-05-01T21:22:38.627135Z",
     "end_time": "2023-05-01T21:22:38.679872Z"
    }
   }
  },
  {
   "cell_type": "markdown",
   "source": [
    "# Assign Representatives"
   ],
   "metadata": {
    "collapsed": false
   }
  },
  {
   "cell_type": "code",
   "execution_count": 16,
   "outputs": [],
   "source": [
    "squashy.GraphAgglomerator?"
   ],
   "metadata": {
    "collapsed": false,
    "ExecuteTime": {
     "start_time": "2023-05-01T21:24:09.370257Z",
     "end_time": "2023-05-01T21:24:09.376443Z"
    }
   }
  },
  {
   "cell_type": "code",
   "execution_count": 2,
   "outputs": [
    {
     "name": "stdout",
     "output_type": "stream",
     "text": [
      "To traverse: (SUBREDDIT)-[LINKS_TO]-(SUBREDDIT)\n",
      "To create: (CORE)-[REPRESENTS]->(SUBREDDIT)\n"
     ]
    }
   ],
   "source": [
    "import squashy\n",
    "agglomerator = squashy.GraphAgglomerator(database=db,\n",
    "                                         node_label='SUBREDDIT',\n",
    "                                         rel_label='LINKS_TO',\n",
    "                                         weight='weight', # this was created when we loaded our data. You can also omit this argument to ignore weight when choosing representatives.\n",
    "                                         min_hops=1,\n",
    "                                         max_hops=2\n",
    "                                         )\n",
    "\n",
    "agglomerator.describe()"
   ],
   "metadata": {
    "collapsed": false,
    "ExecuteTime": {
     "start_time": "2023-05-01T21:46:47.742473Z",
     "end_time": "2023-05-01T21:46:49.023810Z"
    }
   }
  },
  {
   "cell_type": "code",
   "execution_count": 3,
   "outputs": [
    {
     "data": {
      "text/plain": "  0%|          | 0/1000 [00:00<?, ?it/s]",
      "application/vnd.jupyter.widget-view+json": {
       "version_major": 2,
       "version_minor": 0,
       "model_id": "36aee61732944fa59eac21dc4c7d80a2"
      }
     },
     "metadata": {},
     "output_type": "display_data"
    }
   ],
   "source": [
    "agglomerator.reset()\n",
    "agglomerator.agglomerate()"
   ],
   "metadata": {
    "collapsed": false,
    "ExecuteTime": {
     "start_time": "2023-05-01T21:47:01.517094Z",
     "end_time": "2023-05-01T21:48:24.145543Z"
    }
   }
  },
  {
   "cell_type": "code",
   "execution_count": 4,
   "outputs": [],
   "source": [
    "agglomerator.set_maximum_hop(3)"
   ],
   "metadata": {
    "collapsed": false,
    "ExecuteTime": {
     "start_time": "2023-05-01T21:48:27.913647Z",
     "end_time": "2023-05-01T21:48:27.918750Z"
    }
   }
  },
  {
   "cell_type": "code",
   "execution_count": 5,
   "outputs": [
    {
     "data": {
      "text/plain": "  0%|          | 0/500 [00:00<?, ?it/s]",
      "application/vnd.jupyter.widget-view+json": {
       "version_major": 2,
       "version_minor": 0,
       "model_id": "0227ddf957bd469686bccd7d725123d1"
      }
     },
     "metadata": {},
     "output_type": "display_data"
    },
    {
     "name": "stdout",
     "output_type": "stream",
     "text": [
      "pass_=1,015, graph_size=35,776, hop=3, n_cores=16, n_assigned=33,791, ratio=0.9445\n",
      "Agglomeration incomplete.\n",
      "Use .agglomerate() to restart hop 3.\n",
      "Use .reset() to restart from the beginning\n"
     ]
    }
   ],
   "source": [
    "agglomerator.agglomerate()"
   ],
   "metadata": {
    "collapsed": false,
    "ExecuteTime": {
     "start_time": "2023-05-01T21:48:30.171721Z",
     "end_time": "2023-05-01T21:52:38.810081Z"
    }
   }
  },
  {
   "cell_type": "code",
   "execution_count": 9,
   "outputs": [
    {
     "data": {
      "application/vnd.plotly.v1+json": {
       "data": [
        {
         "hovertemplate": "hop=1<br>pass_=%{x}<br>runtime=%{y}<extra></extra>",
         "legendgroup": "1",
         "line": {
          "color": "#636efa",
          "dash": "solid"
         },
         "marker": {
          "symbol": "circle"
         },
         "mode": "lines",
         "name": "1",
         "showlegend": true,
         "x": [
          0,
          1,
          2,
          3,
          4,
          5,
          6,
          7,
          8,
          9,
          10,
          11,
          12,
          13,
          14,
          15,
          16,
          17,
          18,
          19,
          20,
          21,
          22,
          23,
          24,
          25,
          26,
          27,
          28,
          29,
          30,
          31,
          32,
          33,
          34,
          35,
          36,
          37,
          38,
          39,
          40,
          41,
          42,
          43,
          44,
          45,
          46,
          47,
          48,
          49,
          50,
          51,
          52,
          53,
          54,
          55,
          56,
          57,
          58,
          59,
          60,
          61,
          62,
          63,
          64,
          65,
          66,
          67,
          68,
          69,
          70,
          71,
          72,
          73,
          74,
          75,
          76,
          77,
          78,
          79,
          80,
          81,
          82,
          83,
          84,
          85,
          86,
          87,
          88,
          89,
          90,
          91,
          92,
          93,
          94,
          95,
          96,
          97,
          98,
          99,
          100,
          101,
          102,
          103,
          104,
          105,
          106,
          107,
          108,
          109,
          110,
          111,
          112,
          113,
          114,
          115,
          116,
          117,
          118,
          119,
          120,
          121,
          122,
          123,
          124,
          125,
          126,
          127,
          128,
          129,
          130,
          131,
          132,
          133,
          134,
          135,
          136,
          137,
          138,
          139,
          140,
          141,
          142,
          143,
          144,
          145,
          146,
          147,
          148,
          149,
          150,
          151,
          152,
          153,
          154,
          155,
          156,
          157,
          158,
          159,
          160,
          161,
          162,
          163,
          164,
          165,
          166,
          167,
          168,
          169,
          170,
          171,
          172,
          173,
          174,
          175,
          176,
          177,
          178,
          179,
          180,
          181,
          182,
          183,
          184,
          185,
          186,
          187,
          188,
          189,
          190,
          191,
          192,
          193,
          194,
          195,
          196,
          197,
          198,
          199,
          200,
          201,
          202,
          203,
          204,
          205,
          206,
          207,
          208,
          209,
          210,
          211,
          212,
          213,
          214,
          215,
          216,
          217,
          218,
          219,
          220,
          221,
          222,
          223,
          224,
          225,
          226,
          227,
          228,
          229,
          230,
          231,
          232,
          233,
          234,
          235,
          236,
          237,
          238,
          239,
          240,
          241,
          242,
          243,
          244,
          245,
          246,
          247,
          248,
          249,
          250,
          251,
          252,
          253,
          254,
          255,
          256,
          257,
          258,
          259,
          260,
          261,
          262,
          263,
          264,
          265,
          266,
          267,
          268,
          269,
          270,
          271,
          272,
          273,
          274,
          275,
          276,
          277,
          278,
          279,
          280,
          281,
          282,
          283,
          284,
          285,
          286,
          287,
          288,
          289,
          290,
          291,
          292,
          293,
          294,
          295,
          296,
          297,
          298,
          299,
          300,
          301,
          302,
          303,
          304,
          305,
          306,
          307,
          308,
          309,
          310,
          311,
          312,
          313,
          314,
          315,
          316,
          317,
          318,
          319,
          320,
          321,
          322,
          323,
          324,
          325,
          326,
          327,
          328,
          329,
          330,
          331,
          332,
          333,
          334,
          335,
          336,
          337,
          338,
          339,
          340,
          341,
          342,
          343,
          344,
          345,
          346,
          347,
          348,
          349,
          350,
          351,
          352,
          353,
          354,
          355,
          356,
          357,
          358,
          359,
          360,
          361,
          362,
          363,
          364,
          365,
          366,
          367,
          368,
          369,
          370,
          371,
          372,
          373,
          374,
          375,
          376,
          377,
          378,
          379,
          380,
          381,
          382,
          383,
          384,
          385,
          386,
          387,
          388,
          389,
          390,
          391,
          392,
          393,
          394,
          395,
          396,
          397,
          398,
          399,
          400,
          401,
          402,
          403,
          404,
          405,
          406,
          407,
          408,
          409,
          410,
          411,
          412,
          413,
          414,
          415,
          416,
          417,
          418,
          419,
          420,
          421,
          422,
          423,
          424,
          425,
          426,
          427,
          428,
          429,
          430,
          431,
          432,
          433,
          434,
          435,
          436,
          437,
          438,
          439,
          440,
          441,
          442,
          443,
          444,
          445,
          446,
          447,
          448,
          449,
          450,
          451,
          452,
          453,
          454,
          455,
          456,
          457,
          458,
          459,
          460,
          461,
          462,
          463,
          464,
          465,
          466,
          467,
          468,
          469,
          470,
          471,
          472,
          473,
          474,
          475,
          476,
          477,
          478,
          479,
          480,
          481,
          482,
          483,
          484,
          485,
          486,
          487,
          488,
          489,
          490,
          491,
          492,
          493,
          494,
          495,
          496,
          497,
          498,
          499
         ],
         "xaxis": "x",
         "y": [
          0.004642009735107422,
          0.0050580501556396484,
          0.004656791687011719,
          0.0045812129974365234,
          0.0035293102264404297,
          0.004873037338256836,
          0.004186153411865234,
          0.0036499500274658203,
          0.0034589767456054688,
          0.0033483505249023438,
          0.006003141403198242,
          0.004441976547241211,
          0.004139900207519531,
          0.0032911300659179688,
          0.04145002365112305,
          0.003301858901977539,
          0.0030870437622070312,
          0.004071950912475586,
          0.004467964172363281,
          0.007268667221069336,
          0.003463268280029297,
          0.0029168128967285156,
          0.0032317638397216797,
          0.005831003189086914,
          0.004765748977661133,
          0.0029850006103515625,
          0.002610921859741211,
          0.0031189918518066406,
          0.005154848098754883,
          0.004113197326660156,
          0.003607034683227539,
          0.0031669139862060547,
          0.007546186447143555,
          0.014414072036743164,
          0.007234096527099609,
          0.0060579776763916016,
          0.007621288299560547,
          0.004366874694824219,
          0.0059621334075927734,
          0.0029828548431396484,
          0.004125833511352539,
          0.004846811294555664,
          0.004436016082763672,
          0.003923892974853516,
          0.0048372745513916016,
          0.004461050033569336,
          0.0052258968353271484,
          0.0038628578186035156,
          0.0039370059967041016,
          0.005597114562988281,
          0.0052280426025390625,
          0.0064928531646728516,
          0.0051059722900390625,
          0.006346940994262695,
          0.00444483757019043,
          0.01697993278503418,
          0.008244991302490234,
          0.004724025726318359,
          0.008398771286010742,
          0.0038690567016601562,
          0.005409955978393555,
          0.006919145584106445,
          0.006402015686035156,
          0.003904104232788086,
          0.0051479339599609375,
          0.005063772201538086,
          0.005328178405761719,
          0.005449056625366211,
          0.0035648345947265625,
          0.0063512325286865234,
          0.0038709640502929688,
          0.005383014678955078,
          0.011790990829467773,
          0.004022836685180664,
          0.005343914031982422,
          0.004246950149536133,
          0.003278970718383789,
          0.00466609001159668,
          0.003595113754272461,
          0.00356292724609375,
          0.00391077995300293,
          0.0034668445587158203,
          0.0037271976470947266,
          0.004423856735229492,
          0.003753185272216797,
          0.004334926605224609,
          0.004199028015136719,
          0.004402875900268555,
          0.0029039382934570312,
          0.002913951873779297,
          0.003101825714111328,
          0.004970073699951172,
          0.0057790279388427734,
          0.005728006362915039,
          0.003566265106201172,
          0.01424407958984375,
          0.0035638809204101562,
          0.0026559829711914062,
          0.004258155822753906,
          0.005376100540161133,
          0.005884885787963867,
          0.003962993621826172,
          0.004036903381347656,
          0.003665924072265625,
          0.004102230072021484,
          0.003473043441772461,
          0.0037598609924316406,
          0.003542661666870117,
          0.005230903625488281,
          0.0032460689544677734,
          0.0042629241943359375,
          0.0030460357666015625,
          0.003895998001098633,
          0.004811763763427734,
          0.005832195281982422,
          0.0037631988525390625,
          0.0070269107818603516,
          0.0036630630493164062,
          0.003481149673461914,
          0.004115104675292969,
          0.005379915237426758,
          0.00449681282043457,
          0.0039212703704833984,
          0.003481149673461914,
          0.0032911300659179688,
          0.00467991828918457,
          0.0035729408264160156,
          0.003782033920288086,
          0.0030868053436279297,
          0.004010915756225586,
          0.004087209701538086,
          0.004070758819580078,
          0.005905866622924805,
          0.002696990966796875,
          0.0035009384155273438,
          0.004933834075927734,
          0.004845857620239258,
          0.0031321048736572266,
          0.004268169403076172,
          0.005688905715942383,
          0.0046520233154296875,
          0.0064849853515625,
          0.0034208297729492188,
          0.0050241947174072266,
          0.0027861595153808594,
          0.0030488967895507812,
          0.0034160614013671875,
          0.0032341480255126953,
          0.004620075225830078,
          0.005406856536865234,
          0.0035898685455322266,
          0.003219127655029297,
          0.004451751708984375,
          0.004022121429443359,
          0.0030059814453125,
          0.005158901214599609,
          0.0038940906524658203,
          0.004023075103759766,
          0.004197835922241211,
          0.003849029541015625,
          0.003114938735961914,
          0.003719806671142578,
          0.003999233245849609,
          0.0051801204681396484,
          0.004294157028198242,
          0.005263090133666992,
          0.005337953567504883,
          0.004441976547241211,
          0.0037229061126708984,
          0.006440162658691406,
          0.0072917938232421875,
          0.0033528804779052734,
          0.004421710968017578,
          0.007308006286621094,
          0.0036232471466064453,
          0.004402875900268555,
          0.004210948944091797,
          0.003936052322387695,
          0.006071805953979492,
          0.0026209354400634766,
          0.003201007843017578,
          0.004931211471557617,
          0.005837917327880859,
          0.003615140914916992,
          0.0033762454986572266,
          0.004948854446411133,
          0.005560636520385742,
          0.0034952163696289062,
          0.0031380653381347656,
          0.003538846969604492,
          0.0033969879150390625,
          0.0048809051513671875,
          0.00316619873046875,
          0.005182981491088867,
          0.002810955047607422,
          0.0031630992889404297,
          0.004239797592163086,
          0.0039670467376708984,
          0.004510164260864258,
          0.0038909912109375,
          0.003975868225097656,
          0.003145933151245117,
          0.0033359527587890625,
          0.003406047821044922,
          0.003164052963256836,
          0.0051860809326171875,
          0.004673004150390625,
          0.0056378841400146484,
          0.0029840469360351562,
          0.0038928985595703125,
          0.00494694709777832,
          0.0033469200134277344,
          0.003202199935913086,
          0.0033638477325439453,
          0.003968954086303711,
          0.0033721923828125,
          0.003695249557495117,
          0.0049800872802734375,
          0.003595113754272461,
          0.006083011627197266,
          0.003259897232055664,
          0.003239154815673828,
          0.006389617919921875,
          0.0036020278930664062,
          0.0034880638122558594,
          0.002930164337158203,
          0.003743886947631836,
          0.003808736801147461,
          0.003833770751953125,
          0.007876157760620117,
          0.0039560794830322266,
          0.0031697750091552734,
          0.003376007080078125,
          0.004426002502441406,
          0.003718852996826172,
          0.005448102951049805,
          0.0028820037841796875,
          0.004175662994384766,
          0.0043070316314697266,
          0.0033729076385498047,
          0.005103111267089844,
          0.004179954528808594,
          0.003857851028442383,
          0.0041429996490478516,
          0.003551959991455078,
          0.004940032958984375,
          0.00731205940246582,
          0.006010293960571289,
          0.0058879852294921875,
          0.003615856170654297,
          0.004409074783325195,
          0.00489497184753418,
          0.004808902740478516,
          0.004633188247680664,
          0.003826141357421875,
          0.003371000289916992,
          0.003495931625366211,
          0.0037310123443603516,
          0.0038721561431884766,
          0.0030760765075683594,
          0.0031080245971679688,
          0.0031430721282958984,
          0.005764961242675781,
          0.0030260086059570312,
          0.0036880970001220703,
          0.007771730422973633,
          0.004083156585693359,
          0.005080223083496094,
          0.0034990310668945312,
          0.0028371810913085938,
          0.0028879642486572266,
          0.004762172698974609,
          0.004091024398803711,
          0.0034241676330566406,
          0.004607200622558594,
          0.003679037094116211,
          0.004812955856323242,
          0.003314971923828125,
          0.0028688907623291016,
          0.008996009826660156,
          0.004729032516479492,
          0.0033469200134277344,
          0.0030469894409179688,
          0.004845142364501953,
          0.004848003387451172,
          0.004563093185424805,
          0.0030062198638916016,
          0.002894163131713867,
          0.0037927627563476562,
          0.003464221954345703,
          0.006979227066040039,
          0.0030601024627685547,
          0.003364086151123047,
          0.0036118030548095703,
          0.004734039306640625,
          0.003673076629638672,
          0.003186941146850586,
          0.00726318359375,
          0.0036361217498779297,
          0.003551006317138672,
          0.002905130386352539,
          0.003343820571899414,
          0.0057070255279541016,
          0.003512144088745117,
          0.003975868225097656,
          0.004556179046630859,
          0.0061571598052978516,
          0.01410365104675293,
          0.002687215805053711,
          0.0034499168395996094,
          0.004728078842163086,
          0.004182100296020508,
          0.003072023391723633,
          0.0031371116638183594,
          0.004683017730712891,
          0.004002094268798828,
          0.0035240650177001953,
          0.004256010055541992,
          0.004563093185424805,
          0.0038678646087646484,
          0.003442049026489258,
          0.0032651424407958984,
          0.003551006317138672,
          0.0035703182220458984,
          0.004951000213623047,
          0.0033941268920898438,
          0.0036149024963378906,
          0.006513833999633789,
          0.003412008285522461,
          0.003651857376098633,
          0.0034761428833007812,
          0.002977132797241211,
          0.004701137542724609,
          0.004145145416259766,
          0.004311084747314453,
          0.004154205322265625,
          0.0054759979248046875,
          0.0036497116088867188,
          0.003634214401245117,
          0.003072977066040039,
          0.0038132667541503906,
          0.0033698081970214844,
          0.0034139156341552734,
          0.004061222076416016,
          0.0033311843872070312,
          0.0036177635192871094,
          0.0035247802734375,
          0.0029730796813964844,
          0.004523754119873047,
          0.003246784210205078,
          0.0032770633697509766,
          0.004091024398803711,
          0.003648996353149414,
          0.005338907241821289,
          0.004155874252319336,
          0.003505229949951172,
          0.004591703414916992,
          0.002824068069458008,
          0.00455021858215332,
          0.0032057762145996094,
          0.0072481632232666016,
          0.004813194274902344,
          0.0034317970275878906,
          0.00584101676940918,
          0.005967140197753906,
          0.004966020584106445,
          0.0031371116638183594,
          0.0032629966735839844,
          0.003362894058227539,
          0.0038747787475585938,
          0.005327939987182617,
          0.0032923221588134766,
          0.004405021667480469,
          0.0040607452392578125,
          0.003667116165161133,
          0.005545854568481445,
          0.00406193733215332,
          0.003818035125732422,
          0.0038230419158935547,
          0.0030159950256347656,
          0.0035600662231445312,
          0.004268169403076172,
          0.004906892776489258,
          0.003721952438354492,
          0.004930019378662109,
          0.003491640090942383,
          0.005151987075805664,
          0.003158092498779297,
          0.004537105560302734,
          0.004498004913330078,
          0.00485992431640625,
          0.005915164947509766,
          0.00461888313293457,
          0.002984762191772461,
          0.0042498111724853516,
          0.0033087730407714844,
          0.004465341567993164,
          0.0031270980834960938,
          0.005023956298828125,
          0.005171298980712891,
          0.004126071929931641,
          0.004045963287353516,
          0.0043981075286865234,
          0.004369258880615234,
          0.0035200119018554688,
          0.0036170482635498047,
          0.003187894821166992,
          0.0038487911224365234,
          0.0038089752197265625,
          0.005202770233154297,
          0.004141092300415039,
          0.005767107009887695,
          0.004161834716796875,
          0.004036903381347656,
          0.0032470226287841797,
          0.0030601024627685547,
          0.0035059452056884766,
          0.003676891326904297,
          0.004269123077392578,
          0.0029439926147460938,
          0.003428220748901367,
          0.004940032958984375,
          0.004114866256713867,
          0.003116607666015625,
          0.0027048587799072266,
          0.0029671192169189453,
          0.002750873565673828,
          0.004230022430419922,
          0.0038383007049560547,
          0.0030410289764404297,
          0.004060983657836914,
          0.004669904708862305,
          0.0037660598754882812,
          0.0031440258026123047,
          0.0043430328369140625,
          0.003954887390136719,
          0.004949092864990234,
          0.0031120777130126953,
          0.0027818679809570312,
          0.003001689910888672,
          0.00430607795715332,
          0.0054590702056884766,
          0.0037581920623779297,
          0.004439115524291992,
          0.004683971405029297,
          0.007495880126953125,
          0.005527973175048828,
          0.0027878284454345703,
          0.003940105438232422,
          0.004678010940551758,
          0.004055023193359375,
          0.004133939743041992,
          0.0057680606842041016,
          0.004523038864135742,
          0.0033698081970214844,
          0.0037450790405273438,
          0.0029549598693847656,
          0.004067897796630859,
          0.004124164581298828,
          0.003582000732421875,
          0.0036017894744873047,
          0.0029151439666748047,
          0.0038132667541503906,
          0.003668069839477539,
          0.0026040077209472656,
          0.0035598278045654297,
          0.0050220489501953125,
          0.0037529468536376953,
          0.003367900848388672,
          0.003507852554321289,
          0.004464149475097656,
          0.003974199295043945,
          0.0037550926208496094,
          0.0030400753021240234,
          0.0039048194885253906,
          0.0030908584594726562,
          0.0031538009643554688,
          0.003793001174926758,
          0.0036520957946777344,
          0.0044901371002197266,
          0.004503965377807617,
          0.003949880599975586,
          0.0030820369720458984,
          0.0031578540802001953,
          0.0033957958221435547,
          0.0035600662231445312,
          0.004477739334106445,
          0.004170894622802734,
          0.004732847213745117,
          0.003520965576171875,
          0.003633260726928711,
          0.005198001861572266,
          0.013251066207885742,
          0.004479885101318359,
          0.003612995147705078,
          0.003633260726928711,
          0.0028328895568847656,
          0.0033371448516845703,
          0.0034551620483398438,
          0.004324197769165039
         ],
         "yaxis": "y",
         "type": "scattergl"
        },
        {
         "hovertemplate": "hop=2<br>pass_=%{x}<br>runtime=%{y}<extra></extra>",
         "legendgroup": "2",
         "line": {
          "color": "#EF553B",
          "dash": "solid"
         },
         "marker": {
          "symbol": "circle"
         },
         "mode": "lines",
         "name": "2",
         "showlegend": true,
         "x": [
          500,
          501,
          502,
          503,
          504,
          505,
          506,
          507,
          508,
          509,
          510,
          511,
          512,
          513,
          514,
          515,
          516,
          517,
          518,
          519,
          520,
          521,
          522,
          523,
          524,
          525,
          526,
          527,
          528,
          529,
          530,
          531,
          532,
          533,
          534,
          535,
          536,
          537,
          538,
          539,
          540,
          541,
          542,
          543,
          544,
          545,
          546,
          547,
          548,
          549,
          550,
          551,
          552,
          553,
          554,
          555,
          556,
          557,
          558,
          559,
          560,
          561,
          562,
          563,
          564,
          565,
          566,
          567,
          568,
          569,
          570,
          571,
          572,
          573,
          574,
          575,
          576,
          577,
          578,
          579,
          580,
          581,
          582,
          583,
          584,
          585,
          586,
          587,
          588,
          589,
          590,
          591,
          592,
          593,
          594,
          595,
          596,
          597,
          598,
          599,
          600,
          601,
          602,
          603,
          604,
          605,
          606,
          607,
          608,
          609,
          610,
          611,
          612,
          613,
          614,
          615,
          616,
          617,
          618,
          619,
          620,
          621,
          622,
          623,
          624,
          625,
          626,
          627,
          628,
          629,
          630,
          631,
          632,
          633,
          634,
          635,
          636,
          637,
          638,
          639,
          640,
          641,
          642,
          643,
          644,
          645,
          646,
          647,
          648,
          649,
          650,
          651,
          652,
          653,
          654,
          655,
          656,
          657,
          658,
          659,
          660,
          661,
          662,
          663,
          664,
          665,
          666,
          667,
          668,
          669,
          670,
          671,
          672,
          673,
          674,
          675,
          676,
          677,
          678,
          679,
          680,
          681,
          682,
          683,
          684,
          685,
          686,
          687,
          688,
          689,
          690,
          691,
          692,
          693,
          694,
          695,
          696,
          697,
          698,
          699,
          700,
          701,
          702,
          703,
          704,
          705,
          706,
          707,
          708,
          709,
          710,
          711,
          712,
          713,
          714,
          715,
          716,
          717,
          718,
          719,
          720,
          721,
          722,
          723,
          724,
          725,
          726,
          727,
          728,
          729,
          730,
          731,
          732,
          733,
          734,
          735,
          736,
          737,
          738,
          739,
          740,
          741,
          742,
          743,
          744,
          745,
          746,
          747,
          748,
          749,
          750,
          751,
          752,
          753,
          754,
          755,
          756,
          757,
          758,
          759,
          760,
          761,
          762,
          763,
          764,
          765,
          766,
          767,
          768,
          769,
          770,
          771,
          772,
          773,
          774,
          775,
          776,
          777,
          778,
          779,
          780,
          781,
          782,
          783,
          784,
          785,
          786,
          787,
          788,
          789,
          790,
          791,
          792,
          793,
          794,
          795,
          796,
          797,
          798,
          799,
          800,
          801,
          802,
          803,
          804,
          805,
          806,
          807,
          808,
          809,
          810,
          811,
          812,
          813,
          814,
          815,
          816,
          817,
          818,
          819,
          820,
          821,
          822,
          823,
          824,
          825,
          826,
          827,
          828,
          829,
          830,
          831,
          832,
          833,
          834,
          835,
          836,
          837,
          838,
          839,
          840,
          841,
          842,
          843,
          844,
          845,
          846,
          847,
          848,
          849,
          850,
          851,
          852,
          853,
          854,
          855,
          856,
          857,
          858,
          859,
          860,
          861,
          862,
          863,
          864,
          865,
          866,
          867,
          868,
          869,
          870,
          871,
          872,
          873,
          874,
          875,
          876,
          877,
          878,
          879,
          880,
          881,
          882,
          883,
          884,
          885,
          886,
          887,
          888,
          889,
          890,
          891,
          892,
          893,
          894,
          895,
          896,
          897,
          898,
          899,
          900,
          901,
          902,
          903,
          904,
          905,
          906,
          907,
          908,
          909,
          910,
          911,
          912,
          913,
          914,
          915,
          916,
          917,
          918,
          919,
          920,
          921,
          922,
          923,
          924,
          925,
          926,
          927,
          928,
          929,
          930,
          931,
          932,
          933,
          934,
          935,
          936,
          937,
          938,
          939,
          940,
          941,
          942,
          943,
          944,
          945,
          946,
          947,
          948,
          949,
          950,
          951,
          952,
          953,
          954,
          955,
          956,
          957,
          958,
          959,
          960,
          961,
          962,
          963,
          964,
          965,
          966,
          967,
          968,
          969,
          970,
          971,
          972,
          973,
          974,
          975,
          976,
          977,
          978,
          979,
          980,
          981,
          982,
          983,
          984,
          985,
          986,
          987,
          988,
          989,
          990,
          991,
          992,
          993,
          994,
          995,
          996,
          997,
          998,
          999
         ],
         "xaxis": "x",
         "y": [
          0.05316781997680664,
          0.20537400245666504,
          0.15977811813354492,
          0.23312807083129883,
          0.12607407569885254,
          0.09416913986206055,
          0.0471189022064209,
          0.15027499198913574,
          0.12554192543029785,
          0.0969541072845459,
          0.10330605506896973,
          0.1547861099243164,
          0.13713526725769043,
          0.007703065872192383,
          0.14055824279785156,
          0.0969080924987793,
          0.13822174072265625,
          0.03111410140991211,
          0.020885944366455078,
          0.3868381977081299,
          0.17048978805541992,
          0.11044192314147949,
          0.09838700294494629,
          0.412473201751709,
          0.3069801330566406,
          0.07352685928344727,
          0.06251907348632812,
          0.060830116271972656,
          0.25614404678344727,
          0.24704480171203613,
          0.052438974380493164,
          0.1260840892791748,
          0.04737496376037598,
          0.0432891845703125,
          0.07996106147766113,
          0.11259293556213379,
          0.2696990966796875,
          0.25904178619384766,
          0.19874000549316406,
          0.015060901641845703,
          0.22616982460021973,
          0.06554007530212402,
          0.077239990234375,
          0.02576589584350586,
          0.18541479110717773,
          0.03472900390625,
          0.1200869083404541,
          0.05075502395629883,
          0.18613100051879883,
          0.3224492073059082,
          0.13279414176940918,
          0.2589702606201172,
          0.07116007804870605,
          0.20777320861816406,
          0.03731393814086914,
          0.33237290382385254,
          0.21416592597961426,
          0.18258190155029297,
          0.014805078506469727,
          0.04185891151428223,
          0.06817889213562012,
          0.1398930549621582,
          0.0899050235748291,
          0.20453977584838867,
          0.13070011138916016,
          0.19149494171142578,
          0.0681769847869873,
          0.04161834716796875,
          0.034607887268066406,
          0.28670597076416016,
          0.10855293273925781,
          0.12800383567810059,
          0.7344441413879395,
          0.1583261489868164,
          0.39882493019104004,
          0.1952528953552246,
          0.055110931396484375,
          0.2207660675048828,
          0.08974528312683105,
          0.0781850814819336,
          0.21756291389465332,
          0.12711811065673828,
          0.10862588882446289,
          0.31669092178344727,
          0.17487096786499023,
          0.2189018726348877,
          0.2601499557495117,
          0.12337684631347656,
          0.058856964111328125,
          0.062062978744506836,
          0.07447314262390137,
          0.1280968189239502,
          0.11142706871032715,
          0.4143190383911133,
          0.04515409469604492,
          0.8283488750457764,
          0.11739897727966309,
          0.06469297409057617,
          0.2921900749206543,
          0.3347132205963135,
          0.19626712799072266,
          0.22404098510742188,
          0.2176499366760254,
          0.15769195556640625,
          0.08830904960632324,
          0.18956279754638672,
          0.0725710391998291,
          0.04386782646179199,
          0.13310885429382324,
          0.057785749435424805,
          0.1738300323486328,
          0.06689310073852539,
          0.0854349136352539,
          0.058270931243896484,
          0.20040321350097656,
          0.1709611415863037,
          0.2115628719329834,
          0.10294294357299805,
          0.05391097068786621,
          0.08115005493164062,
          0.22039508819580078,
          0.05789899826049805,
          0.12074899673461914,
          0.15230703353881836,
          0.11217808723449707,
          0.2032020092010498,
          0.11350893974304199,
          0.18927001953125,
          0.07996892929077148,
          0.05430293083190918,
          0.11228680610656738,
          0.17403626441955566,
          0.03920173645019531,
          0.03745722770690918,
          0.1530771255493164,
          0.2295527458190918,
          0.38373398780822754,
          0.05503988265991211,
          0.07668709754943848,
          0.30135512351989746,
          0.07959675788879395,
          0.23137402534484863,
          0.06647109985351562,
          0.12318015098571777,
          0.046987056732177734,
          0.04715108871459961,
          0.11948204040527344,
          0.10459399223327637,
          0.1154019832611084,
          0.14657998085021973,
          0.12894606590270996,
          0.11928582191467285,
          0.17196893692016602,
          0.1707148551940918,
          0.07469487190246582,
          0.27696776390075684,
          0.051223039627075195,
          0.19245266914367676,
          0.17415714263916016,
          0.1527550220489502,
          0.16721105575561523,
          0.10547614097595215,
          0.11068415641784668,
          0.29459285736083984,
          0.11250090599060059,
          0.15776705741882324,
          0.28186893463134766,
          0.1458759307861328,
          0.08835291862487793,
          0.19800972938537598,
          0.17963385581970215,
          0.17590022087097168,
          0.2660410404205322,
          0.43907999992370605,
          0.16610312461853027,
          0.12326407432556152,
          0.2971529960632324,
          0.10444116592407227,
          0.3666670322418213,
          0.0585331916809082,
          0.08736491203308105,
          0.2779059410095215,
          0.23832082748413086,
          0.13697385787963867,
          0.10174679756164551,
          0.3275258541107178,
          0.30963611602783203,
          0.03864407539367676,
          0.10613203048706055,
          0.1402449607849121,
          0.06660294532775879,
          0.2178807258605957,
          0.10475993156433105,
          0.2921571731567383,
          0.10515809059143066,
          0.0933539867401123,
          0.09593081474304199,
          0.05116391181945801,
          0.1568739414215088,
          0.1218252182006836,
          0.15932798385620117,
          0.05793309211730957,
          0.025909900665283203,
          0.11351203918457031,
          0.08389496803283691,
          0.22913622856140137,
          0.2838630676269531,
          0.2077620029449463,
          0.09451007843017578,
          0.12948203086853027,
          0.2906968593597412,
          0.02149224281311035,
          0.059417009353637695,
          0.12072300910949707,
          0.07281374931335449,
          0.12299108505249023,
          0.10977792739868164,
          0.1720900535583496,
          0.1514592170715332,
          0.34871697425842285,
          0.12384414672851562,
          0.11870884895324707,
          0.4310619831085205,
          0.11748385429382324,
          0.11809587478637695,
          0.044625043869018555,
          0.20850300788879395,
          0.17873001098632812,
          0.07800698280334473,
          0.3975090980529785,
          0.07046818733215332,
          0.19697999954223633,
          0.1466078758239746,
          0.09396600723266602,
          0.11958885192871094,
          0.35915184020996094,
          0.06930923461914062,
          0.10507702827453613,
          0.08343005180358887,
          0.14485597610473633,
          0.32938599586486816,
          0.19187092781066895,
          0.13408207893371582,
          0.12567925453186035,
          0.05754804611206055,
          0.17534995079040527,
          0.08816194534301758,
          0.04175901412963867,
          0.133652925491333,
          0.07739686965942383,
          0.28237009048461914,
          0.1225428581237793,
          0.126417875289917,
          0.3048429489135742,
          0.14645814895629883,
          0.043920040130615234,
          0.10000324249267578,
          0.04655194282531738,
          0.14223790168762207,
          0.01580500602722168,
          0.07587099075317383,
          0.13518095016479492,
          0.25759100914001465,
          0.049759864807128906,
          0.052865028381347656,
          0.2897942066192627,
          0.056246042251586914,
          0.24988532066345215,
          0.10699605941772461,
          0.08968091011047363,
          0.10400986671447754,
          0.2223060131072998,
          0.09498000144958496,
          0.1574561595916748,
          0.17547202110290527,
          0.0958409309387207,
          0.15044808387756348,
          0.04651308059692383,
          0.04941892623901367,
          0.40450406074523926,
          0.2112720012664795,
          0.06263279914855957,
          0.08159089088439941,
          0.30475807189941406,
          0.27343106269836426,
          0.08835983276367188,
          0.045217037200927734,
          0.05514717102050781,
          0.18933510780334473,
          0.09409904479980469,
          0.48653197288513184,
          0.049922943115234375,
          0.08937788009643555,
          0.19540095329284668,
          0.2809140682220459,
          0.09381413459777832,
          0.13376998901367188,
          0.3748891353607178,
          0.029965877532958984,
          0.10437297821044922,
          0.13141369819641113,
          0.09786391258239746,
          0.3407931327819824,
          0.15853285789489746,
          0.057858943939208984,
          0.22179627418518066,
          0.11461520195007324,
          0.6196098327636719,
          0.01707172393798828,
          0.1592121124267578,
          0.16955995559692383,
          0.2591371536254883,
          0.13274407386779785,
          0.07330918312072754,
          0.242048978805542,
          0.061489105224609375,
          0.1692800521850586,
          0.10613203048706055,
          0.21514081954956055,
          0.06644916534423828,
          0.09586906433105469,
          0.14857697486877441,
          0.2724270820617676,
          0.18684887886047363,
          0.08721089363098145,
          0.18323874473571777,
          0.08651971817016602,
          0.4551839828491211,
          0.16152286529541016,
          0.03618216514587402,
          0.05438876152038574,
          0.12243890762329102,
          0.33230090141296387,
          0.13048100471496582,
          0.09210801124572754,
          0.014863252639770508,
          0.1920762062072754,
          0.1634197235107422,
          0.1195688247680664,
          0.11055493354797363,
          0.15047693252563477,
          0.045189857482910156,
          0.1348738670349121,
          0.14476227760314941,
          0.11473417282104492,
          0.11297488212585449,
          0.1277451515197754,
          0.10568094253540039,
          0.22558212280273438,
          0.15213799476623535,
          0.03405308723449707,
          0.11934709548950195,
          0.06830811500549316,
          0.1408069133758545,
          0.11983990669250488,
          0.09115982055664062,
          0.16498279571533203,
          0.04674816131591797,
          0.37803173065185547,
          0.07768607139587402,
          0.37295007705688477,
          0.28983235359191895,
          0.17204689979553223,
          0.29382991790771484,
          0.1531660556793213,
          0.2344799041748047,
          0.07326102256774902,
          0.046037912368774414,
          0.15504002571105957,
          0.15844511985778809,
          0.26906394958496094,
          0.08330011367797852,
          0.15703296661376953,
          0.07672286033630371,
          0.1566789150238037,
          0.4194502830505371,
          0.27341699600219727,
          0.1553339958190918,
          0.05941200256347656,
          0.04781913757324219,
          0.14636802673339844,
          0.1742091178894043,
          0.03394722938537598,
          0.09400510787963867,
          0.15866494178771973,
          0.06269693374633789,
          0.2533688545227051,
          0.05909395217895508,
          0.21626710891723633,
          0.16650176048278809,
          0.17237091064453125,
          0.1336498260498047,
          0.20445585250854492,
          0.038514137268066406,
          0.12864303588867188,
          0.13527512550354004,
          0.2800767421722412,
          0.18754005432128906,
          0.30774903297424316,
          0.24254989624023438,
          0.15245270729064941,
          0.19561100006103516,
          0.19319486618041992,
          0.1535332202911377,
          0.01268315315246582,
          0.12703394889831543,
          0.15708303451538086,
          0.10714221000671387,
          0.07182192802429199,
          0.2524380683898926,
          0.1780710220336914,
          0.03302407264709473,
          0.12943172454833984,
          0.0862271785736084,
          0.13135099411010742,
          0.13554096221923828,
          0.10005974769592285,
          0.057691097259521484,
          0.26618528366088867,
          0.034677982330322266,
          0.22868990898132324,
          0.16270112991333008,
          0.1906580924987793,
          0.08763790130615234,
          0.13534188270568848,
          0.17060208320617676,
          0.08911585807800293,
          0.2065272331237793,
          0.2017228603363037,
          0.054780006408691406,
          0.17042803764343262,
          0.18772029876708984,
          0.022706985473632812,
          0.1520099639892578,
          0.15131902694702148,
          0.08699297904968262,
          0.21811676025390625,
          0.07580876350402832,
          0.03889894485473633,
          0.15105795860290527,
          0.11434197425842285,
          0.011849403381347656,
          0.1707620620727539,
          0.20322203636169434,
          0.16310977935791016,
          0.3663797378540039,
          0.421522855758667,
          0.1003572940826416,
          0.14853310585021973,
          0.0837099552154541,
          0.04157614707946777,
          0.18647480010986328,
          0.3779759407043457,
          0.14835715293884277,
          0.08374595642089844,
          0.12585926055908203,
          0.06223487854003906,
          0.14130401611328125,
          0.08837509155273438,
          0.11526799201965332,
          0.0995340347290039,
          0.009850025177001953,
          0.08958983421325684,
          0.12160587310791016,
          0.037320852279663086,
          0.1582028865814209,
          0.3331921100616455,
          0.04188871383666992,
          0.10671210289001465,
          0.09745407104492188,
          0.16517877578735352,
          0.17402291297912598,
          0.047341108322143555,
          0.09504818916320801,
          0.21074414253234863,
          0.09185004234313965,
          0.018908023834228516,
          0.10582923889160156,
          0.18164396286010742,
          0.36165904998779297,
          0.19716906547546387,
          0.14018607139587402,
          0.09494924545288086,
          0.1276993751525879,
          0.18971514701843262,
          0.1613926887512207,
          0.11116290092468262,
          0.1885361671447754,
          0.21218490600585938,
          0.14284300804138184,
          0.14802885055541992,
          0.04413628578186035,
          0.7310299873352051,
          0.29949498176574707,
          0.131256103515625,
          0.09868526458740234,
          0.09009981155395508,
          0.13509559631347656,
          0.12319016456604004,
          0.13507294654846191
         ],
         "yaxis": "y",
         "type": "scattergl"
        },
        {
         "hovertemplate": "hop=3<br>pass_=%{x}<br>runtime=%{y}<extra></extra>",
         "legendgroup": "3",
         "line": {
          "color": "#00cc96",
          "dash": "solid"
         },
         "marker": {
          "symbol": "circle"
         },
         "mode": "lines",
         "name": "3",
         "showlegend": true,
         "x": [
          1000,
          1001,
          1002,
          1003,
          1004,
          1005,
          1006,
          1007,
          1008,
          1009,
          1010,
          1011,
          1012,
          1013,
          1014
         ],
         "xaxis": "x",
         "y": [
          7.940245151519775,
          28.39001178741455,
          21.072428703308105,
          32.286004066467285,
          15.264575004577637,
          11.36633014678955,
          4.75609016418457,
          17.026475191116333,
          16.711183071136475,
          12.11021900177002,
          13.565310955047607,
          19.69887399673462,
          20.707349061965942,
          0.5377552509307861,
          17.576449155807495
         ],
         "yaxis": "y",
         "type": "scattergl"
        }
       ],
       "layout": {
        "template": {
         "data": {
          "histogram2dcontour": [
           {
            "type": "histogram2dcontour",
            "colorbar": {
             "outlinewidth": 0,
             "ticks": ""
            },
            "colorscale": [
             [
              0.0,
              "#0d0887"
             ],
             [
              0.1111111111111111,
              "#46039f"
             ],
             [
              0.2222222222222222,
              "#7201a8"
             ],
             [
              0.3333333333333333,
              "#9c179e"
             ],
             [
              0.4444444444444444,
              "#bd3786"
             ],
             [
              0.5555555555555556,
              "#d8576b"
             ],
             [
              0.6666666666666666,
              "#ed7953"
             ],
             [
              0.7777777777777778,
              "#fb9f3a"
             ],
             [
              0.8888888888888888,
              "#fdca26"
             ],
             [
              1.0,
              "#f0f921"
             ]
            ]
           }
          ],
          "choropleth": [
           {
            "type": "choropleth",
            "colorbar": {
             "outlinewidth": 0,
             "ticks": ""
            }
           }
          ],
          "histogram2d": [
           {
            "type": "histogram2d",
            "colorbar": {
             "outlinewidth": 0,
             "ticks": ""
            },
            "colorscale": [
             [
              0.0,
              "#0d0887"
             ],
             [
              0.1111111111111111,
              "#46039f"
             ],
             [
              0.2222222222222222,
              "#7201a8"
             ],
             [
              0.3333333333333333,
              "#9c179e"
             ],
             [
              0.4444444444444444,
              "#bd3786"
             ],
             [
              0.5555555555555556,
              "#d8576b"
             ],
             [
              0.6666666666666666,
              "#ed7953"
             ],
             [
              0.7777777777777778,
              "#fb9f3a"
             ],
             [
              0.8888888888888888,
              "#fdca26"
             ],
             [
              1.0,
              "#f0f921"
             ]
            ]
           }
          ],
          "heatmap": [
           {
            "type": "heatmap",
            "colorbar": {
             "outlinewidth": 0,
             "ticks": ""
            },
            "colorscale": [
             [
              0.0,
              "#0d0887"
             ],
             [
              0.1111111111111111,
              "#46039f"
             ],
             [
              0.2222222222222222,
              "#7201a8"
             ],
             [
              0.3333333333333333,
              "#9c179e"
             ],
             [
              0.4444444444444444,
              "#bd3786"
             ],
             [
              0.5555555555555556,
              "#d8576b"
             ],
             [
              0.6666666666666666,
              "#ed7953"
             ],
             [
              0.7777777777777778,
              "#fb9f3a"
             ],
             [
              0.8888888888888888,
              "#fdca26"
             ],
             [
              1.0,
              "#f0f921"
             ]
            ]
           }
          ],
          "heatmapgl": [
           {
            "type": "heatmapgl",
            "colorbar": {
             "outlinewidth": 0,
             "ticks": ""
            },
            "colorscale": [
             [
              0.0,
              "#0d0887"
             ],
             [
              0.1111111111111111,
              "#46039f"
             ],
             [
              0.2222222222222222,
              "#7201a8"
             ],
             [
              0.3333333333333333,
              "#9c179e"
             ],
             [
              0.4444444444444444,
              "#bd3786"
             ],
             [
              0.5555555555555556,
              "#d8576b"
             ],
             [
              0.6666666666666666,
              "#ed7953"
             ],
             [
              0.7777777777777778,
              "#fb9f3a"
             ],
             [
              0.8888888888888888,
              "#fdca26"
             ],
             [
              1.0,
              "#f0f921"
             ]
            ]
           }
          ],
          "contourcarpet": [
           {
            "type": "contourcarpet",
            "colorbar": {
             "outlinewidth": 0,
             "ticks": ""
            }
           }
          ],
          "contour": [
           {
            "type": "contour",
            "colorbar": {
             "outlinewidth": 0,
             "ticks": ""
            },
            "colorscale": [
             [
              0.0,
              "#0d0887"
             ],
             [
              0.1111111111111111,
              "#46039f"
             ],
             [
              0.2222222222222222,
              "#7201a8"
             ],
             [
              0.3333333333333333,
              "#9c179e"
             ],
             [
              0.4444444444444444,
              "#bd3786"
             ],
             [
              0.5555555555555556,
              "#d8576b"
             ],
             [
              0.6666666666666666,
              "#ed7953"
             ],
             [
              0.7777777777777778,
              "#fb9f3a"
             ],
             [
              0.8888888888888888,
              "#fdca26"
             ],
             [
              1.0,
              "#f0f921"
             ]
            ]
           }
          ],
          "surface": [
           {
            "type": "surface",
            "colorbar": {
             "outlinewidth": 0,
             "ticks": ""
            },
            "colorscale": [
             [
              0.0,
              "#0d0887"
             ],
             [
              0.1111111111111111,
              "#46039f"
             ],
             [
              0.2222222222222222,
              "#7201a8"
             ],
             [
              0.3333333333333333,
              "#9c179e"
             ],
             [
              0.4444444444444444,
              "#bd3786"
             ],
             [
              0.5555555555555556,
              "#d8576b"
             ],
             [
              0.6666666666666666,
              "#ed7953"
             ],
             [
              0.7777777777777778,
              "#fb9f3a"
             ],
             [
              0.8888888888888888,
              "#fdca26"
             ],
             [
              1.0,
              "#f0f921"
             ]
            ]
           }
          ],
          "mesh3d": [
           {
            "type": "mesh3d",
            "colorbar": {
             "outlinewidth": 0,
             "ticks": ""
            }
           }
          ],
          "scatter": [
           {
            "fillpattern": {
             "fillmode": "overlay",
             "size": 10,
             "solidity": 0.2
            },
            "type": "scatter"
           }
          ],
          "parcoords": [
           {
            "type": "parcoords",
            "line": {
             "colorbar": {
              "outlinewidth": 0,
              "ticks": ""
             }
            }
           }
          ],
          "scatterpolargl": [
           {
            "type": "scatterpolargl",
            "marker": {
             "colorbar": {
              "outlinewidth": 0,
              "ticks": ""
             }
            }
           }
          ],
          "bar": [
           {
            "error_x": {
             "color": "#2a3f5f"
            },
            "error_y": {
             "color": "#2a3f5f"
            },
            "marker": {
             "line": {
              "color": "#E5ECF6",
              "width": 0.5
             },
             "pattern": {
              "fillmode": "overlay",
              "size": 10,
              "solidity": 0.2
             }
            },
            "type": "bar"
           }
          ],
          "scattergeo": [
           {
            "type": "scattergeo",
            "marker": {
             "colorbar": {
              "outlinewidth": 0,
              "ticks": ""
             }
            }
           }
          ],
          "scatterpolar": [
           {
            "type": "scatterpolar",
            "marker": {
             "colorbar": {
              "outlinewidth": 0,
              "ticks": ""
             }
            }
           }
          ],
          "histogram": [
           {
            "marker": {
             "pattern": {
              "fillmode": "overlay",
              "size": 10,
              "solidity": 0.2
             }
            },
            "type": "histogram"
           }
          ],
          "scattergl": [
           {
            "type": "scattergl",
            "marker": {
             "colorbar": {
              "outlinewidth": 0,
              "ticks": ""
             }
            }
           }
          ],
          "scatter3d": [
           {
            "type": "scatter3d",
            "line": {
             "colorbar": {
              "outlinewidth": 0,
              "ticks": ""
             }
            },
            "marker": {
             "colorbar": {
              "outlinewidth": 0,
              "ticks": ""
             }
            }
           }
          ],
          "scattermapbox": [
           {
            "type": "scattermapbox",
            "marker": {
             "colorbar": {
              "outlinewidth": 0,
              "ticks": ""
             }
            }
           }
          ],
          "scatterternary": [
           {
            "type": "scatterternary",
            "marker": {
             "colorbar": {
              "outlinewidth": 0,
              "ticks": ""
             }
            }
           }
          ],
          "scattercarpet": [
           {
            "type": "scattercarpet",
            "marker": {
             "colorbar": {
              "outlinewidth": 0,
              "ticks": ""
             }
            }
           }
          ],
          "carpet": [
           {
            "aaxis": {
             "endlinecolor": "#2a3f5f",
             "gridcolor": "white",
             "linecolor": "white",
             "minorgridcolor": "white",
             "startlinecolor": "#2a3f5f"
            },
            "baxis": {
             "endlinecolor": "#2a3f5f",
             "gridcolor": "white",
             "linecolor": "white",
             "minorgridcolor": "white",
             "startlinecolor": "#2a3f5f"
            },
            "type": "carpet"
           }
          ],
          "table": [
           {
            "cells": {
             "fill": {
              "color": "#EBF0F8"
             },
             "line": {
              "color": "white"
             }
            },
            "header": {
             "fill": {
              "color": "#C8D4E3"
             },
             "line": {
              "color": "white"
             }
            },
            "type": "table"
           }
          ],
          "barpolar": [
           {
            "marker": {
             "line": {
              "color": "#E5ECF6",
              "width": 0.5
             },
             "pattern": {
              "fillmode": "overlay",
              "size": 10,
              "solidity": 0.2
             }
            },
            "type": "barpolar"
           }
          ],
          "pie": [
           {
            "automargin": true,
            "type": "pie"
           }
          ]
         },
         "layout": {
          "autotypenumbers": "strict",
          "colorway": [
           "#636efa",
           "#EF553B",
           "#00cc96",
           "#ab63fa",
           "#FFA15A",
           "#19d3f3",
           "#FF6692",
           "#B6E880",
           "#FF97FF",
           "#FECB52"
          ],
          "font": {
           "color": "#2a3f5f"
          },
          "hovermode": "closest",
          "hoverlabel": {
           "align": "left"
          },
          "paper_bgcolor": "white",
          "plot_bgcolor": "#E5ECF6",
          "polar": {
           "bgcolor": "#E5ECF6",
           "angularaxis": {
            "gridcolor": "white",
            "linecolor": "white",
            "ticks": ""
           },
           "radialaxis": {
            "gridcolor": "white",
            "linecolor": "white",
            "ticks": ""
           }
          },
          "ternary": {
           "bgcolor": "#E5ECF6",
           "aaxis": {
            "gridcolor": "white",
            "linecolor": "white",
            "ticks": ""
           },
           "baxis": {
            "gridcolor": "white",
            "linecolor": "white",
            "ticks": ""
           },
           "caxis": {
            "gridcolor": "white",
            "linecolor": "white",
            "ticks": ""
           }
          },
          "coloraxis": {
           "colorbar": {
            "outlinewidth": 0,
            "ticks": ""
           }
          },
          "colorscale": {
           "sequential": [
            [
             0.0,
             "#0d0887"
            ],
            [
             0.1111111111111111,
             "#46039f"
            ],
            [
             0.2222222222222222,
             "#7201a8"
            ],
            [
             0.3333333333333333,
             "#9c179e"
            ],
            [
             0.4444444444444444,
             "#bd3786"
            ],
            [
             0.5555555555555556,
             "#d8576b"
            ],
            [
             0.6666666666666666,
             "#ed7953"
            ],
            [
             0.7777777777777778,
             "#fb9f3a"
            ],
            [
             0.8888888888888888,
             "#fdca26"
            ],
            [
             1.0,
             "#f0f921"
            ]
           ],
           "sequentialminus": [
            [
             0.0,
             "#0d0887"
            ],
            [
             0.1111111111111111,
             "#46039f"
            ],
            [
             0.2222222222222222,
             "#7201a8"
            ],
            [
             0.3333333333333333,
             "#9c179e"
            ],
            [
             0.4444444444444444,
             "#bd3786"
            ],
            [
             0.5555555555555556,
             "#d8576b"
            ],
            [
             0.6666666666666666,
             "#ed7953"
            ],
            [
             0.7777777777777778,
             "#fb9f3a"
            ],
            [
             0.8888888888888888,
             "#fdca26"
            ],
            [
             1.0,
             "#f0f921"
            ]
           ],
           "diverging": [
            [
             0,
             "#8e0152"
            ],
            [
             0.1,
             "#c51b7d"
            ],
            [
             0.2,
             "#de77ae"
            ],
            [
             0.3,
             "#f1b6da"
            ],
            [
             0.4,
             "#fde0ef"
            ],
            [
             0.5,
             "#f7f7f7"
            ],
            [
             0.6,
             "#e6f5d0"
            ],
            [
             0.7,
             "#b8e186"
            ],
            [
             0.8,
             "#7fbc41"
            ],
            [
             0.9,
             "#4d9221"
            ],
            [
             1,
             "#276419"
            ]
           ]
          },
          "xaxis": {
           "gridcolor": "white",
           "linecolor": "white",
           "ticks": "",
           "title": {
            "standoff": 15
           },
           "zerolinecolor": "white",
           "automargin": true,
           "zerolinewidth": 2
          },
          "yaxis": {
           "gridcolor": "white",
           "linecolor": "white",
           "ticks": "",
           "title": {
            "standoff": 15
           },
           "zerolinecolor": "white",
           "automargin": true,
           "zerolinewidth": 2
          },
          "scene": {
           "xaxis": {
            "backgroundcolor": "#E5ECF6",
            "gridcolor": "white",
            "linecolor": "white",
            "showbackground": true,
            "ticks": "",
            "zerolinecolor": "white",
            "gridwidth": 2
           },
           "yaxis": {
            "backgroundcolor": "#E5ECF6",
            "gridcolor": "white",
            "linecolor": "white",
            "showbackground": true,
            "ticks": "",
            "zerolinecolor": "white",
            "gridwidth": 2
           },
           "zaxis": {
            "backgroundcolor": "#E5ECF6",
            "gridcolor": "white",
            "linecolor": "white",
            "showbackground": true,
            "ticks": "",
            "zerolinecolor": "white",
            "gridwidth": 2
           }
          },
          "shapedefaults": {
           "line": {
            "color": "#2a3f5f"
           }
          },
          "annotationdefaults": {
           "arrowcolor": "#2a3f5f",
           "arrowhead": 0,
           "arrowwidth": 1
          },
          "geo": {
           "bgcolor": "white",
           "landcolor": "#E5ECF6",
           "subunitcolor": "white",
           "showland": true,
           "showlakes": true,
           "lakecolor": "white"
          },
          "title": {
           "x": 0.05
          },
          "mapbox": {
           "style": "light"
          }
         }
        },
        "xaxis": {
         "anchor": "y",
         "domain": [
          0.0,
          1.0
         ],
         "title": {
          "text": "pass_"
         }
        },
        "yaxis": {
         "anchor": "x",
         "domain": [
          0.0,
          1.0
         ],
         "title": {
          "text": "runtime"
         },
         "type": "log"
        },
        "legend": {
         "title": {
          "text": "hop"
         },
         "tracegroupgap": 0
        },
        "margin": {
         "t": 60
        }
       },
       "config": {
        "plotlyServerURL": "https://plot.ly"
       }
      },
      "text/html": "<div>                            <div id=\"d8d9a8a7-caef-47d5-beb4-8675dba9ec2a\" class=\"plotly-graph-div\" style=\"height:525px; width:100%;\"></div>            <script type=\"text/javascript\">                require([\"plotly\"], function(Plotly) {                    window.PLOTLYENV=window.PLOTLYENV || {};                                    if (document.getElementById(\"d8d9a8a7-caef-47d5-beb4-8675dba9ec2a\")) {                    Plotly.newPlot(                        \"d8d9a8a7-caef-47d5-beb4-8675dba9ec2a\",                        [{\"hovertemplate\":\"hop=1<br>pass_=%{x}<br>runtime=%{y}<extra></extra>\",\"legendgroup\":\"1\",\"line\":{\"color\":\"#636efa\",\"dash\":\"solid\"},\"marker\":{\"symbol\":\"circle\"},\"mode\":\"lines\",\"name\":\"1\",\"showlegend\":true,\"x\":[0,1,2,3,4,5,6,7,8,9,10,11,12,13,14,15,16,17,18,19,20,21,22,23,24,25,26,27,28,29,30,31,32,33,34,35,36,37,38,39,40,41,42,43,44,45,46,47,48,49,50,51,52,53,54,55,56,57,58,59,60,61,62,63,64,65,66,67,68,69,70,71,72,73,74,75,76,77,78,79,80,81,82,83,84,85,86,87,88,89,90,91,92,93,94,95,96,97,98,99,100,101,102,103,104,105,106,107,108,109,110,111,112,113,114,115,116,117,118,119,120,121,122,123,124,125,126,127,128,129,130,131,132,133,134,135,136,137,138,139,140,141,142,143,144,145,146,147,148,149,150,151,152,153,154,155,156,157,158,159,160,161,162,163,164,165,166,167,168,169,170,171,172,173,174,175,176,177,178,179,180,181,182,183,184,185,186,187,188,189,190,191,192,193,194,195,196,197,198,199,200,201,202,203,204,205,206,207,208,209,210,211,212,213,214,215,216,217,218,219,220,221,222,223,224,225,226,227,228,229,230,231,232,233,234,235,236,237,238,239,240,241,242,243,244,245,246,247,248,249,250,251,252,253,254,255,256,257,258,259,260,261,262,263,264,265,266,267,268,269,270,271,272,273,274,275,276,277,278,279,280,281,282,283,284,285,286,287,288,289,290,291,292,293,294,295,296,297,298,299,300,301,302,303,304,305,306,307,308,309,310,311,312,313,314,315,316,317,318,319,320,321,322,323,324,325,326,327,328,329,330,331,332,333,334,335,336,337,338,339,340,341,342,343,344,345,346,347,348,349,350,351,352,353,354,355,356,357,358,359,360,361,362,363,364,365,366,367,368,369,370,371,372,373,374,375,376,377,378,379,380,381,382,383,384,385,386,387,388,389,390,391,392,393,394,395,396,397,398,399,400,401,402,403,404,405,406,407,408,409,410,411,412,413,414,415,416,417,418,419,420,421,422,423,424,425,426,427,428,429,430,431,432,433,434,435,436,437,438,439,440,441,442,443,444,445,446,447,448,449,450,451,452,453,454,455,456,457,458,459,460,461,462,463,464,465,466,467,468,469,470,471,472,473,474,475,476,477,478,479,480,481,482,483,484,485,486,487,488,489,490,491,492,493,494,495,496,497,498,499],\"xaxis\":\"x\",\"y\":[0.004642009735107422,0.0050580501556396484,0.004656791687011719,0.0045812129974365234,0.0035293102264404297,0.004873037338256836,0.004186153411865234,0.0036499500274658203,0.0034589767456054688,0.0033483505249023438,0.006003141403198242,0.004441976547241211,0.004139900207519531,0.0032911300659179688,0.04145002365112305,0.003301858901977539,0.0030870437622070312,0.004071950912475586,0.004467964172363281,0.007268667221069336,0.003463268280029297,0.0029168128967285156,0.0032317638397216797,0.005831003189086914,0.004765748977661133,0.0029850006103515625,0.002610921859741211,0.0031189918518066406,0.005154848098754883,0.004113197326660156,0.003607034683227539,0.0031669139862060547,0.007546186447143555,0.014414072036743164,0.007234096527099609,0.0060579776763916016,0.007621288299560547,0.004366874694824219,0.0059621334075927734,0.0029828548431396484,0.004125833511352539,0.004846811294555664,0.004436016082763672,0.003923892974853516,0.0048372745513916016,0.004461050033569336,0.0052258968353271484,0.0038628578186035156,0.0039370059967041016,0.005597114562988281,0.0052280426025390625,0.0064928531646728516,0.0051059722900390625,0.006346940994262695,0.00444483757019043,0.01697993278503418,0.008244991302490234,0.004724025726318359,0.008398771286010742,0.0038690567016601562,0.005409955978393555,0.006919145584106445,0.006402015686035156,0.003904104232788086,0.0051479339599609375,0.005063772201538086,0.005328178405761719,0.005449056625366211,0.0035648345947265625,0.0063512325286865234,0.0038709640502929688,0.005383014678955078,0.011790990829467773,0.004022836685180664,0.005343914031982422,0.004246950149536133,0.003278970718383789,0.00466609001159668,0.003595113754272461,0.00356292724609375,0.00391077995300293,0.0034668445587158203,0.0037271976470947266,0.004423856735229492,0.003753185272216797,0.004334926605224609,0.004199028015136719,0.004402875900268555,0.0029039382934570312,0.002913951873779297,0.003101825714111328,0.004970073699951172,0.0057790279388427734,0.005728006362915039,0.003566265106201172,0.01424407958984375,0.0035638809204101562,0.0026559829711914062,0.004258155822753906,0.005376100540161133,0.005884885787963867,0.003962993621826172,0.004036903381347656,0.003665924072265625,0.004102230072021484,0.003473043441772461,0.0037598609924316406,0.003542661666870117,0.005230903625488281,0.0032460689544677734,0.0042629241943359375,0.0030460357666015625,0.003895998001098633,0.004811763763427734,0.005832195281982422,0.0037631988525390625,0.0070269107818603516,0.0036630630493164062,0.003481149673461914,0.004115104675292969,0.005379915237426758,0.00449681282043457,0.0039212703704833984,0.003481149673461914,0.0032911300659179688,0.00467991828918457,0.0035729408264160156,0.003782033920288086,0.0030868053436279297,0.004010915756225586,0.004087209701538086,0.004070758819580078,0.005905866622924805,0.002696990966796875,0.0035009384155273438,0.004933834075927734,0.004845857620239258,0.0031321048736572266,0.004268169403076172,0.005688905715942383,0.0046520233154296875,0.0064849853515625,0.0034208297729492188,0.0050241947174072266,0.0027861595153808594,0.0030488967895507812,0.0034160614013671875,0.0032341480255126953,0.004620075225830078,0.005406856536865234,0.0035898685455322266,0.003219127655029297,0.004451751708984375,0.004022121429443359,0.0030059814453125,0.005158901214599609,0.0038940906524658203,0.004023075103759766,0.004197835922241211,0.003849029541015625,0.003114938735961914,0.003719806671142578,0.003999233245849609,0.0051801204681396484,0.004294157028198242,0.005263090133666992,0.005337953567504883,0.004441976547241211,0.0037229061126708984,0.006440162658691406,0.0072917938232421875,0.0033528804779052734,0.004421710968017578,0.007308006286621094,0.0036232471466064453,0.004402875900268555,0.004210948944091797,0.003936052322387695,0.006071805953979492,0.0026209354400634766,0.003201007843017578,0.004931211471557617,0.005837917327880859,0.003615140914916992,0.0033762454986572266,0.004948854446411133,0.005560636520385742,0.0034952163696289062,0.0031380653381347656,0.003538846969604492,0.0033969879150390625,0.0048809051513671875,0.00316619873046875,0.005182981491088867,0.002810955047607422,0.0031630992889404297,0.004239797592163086,0.0039670467376708984,0.004510164260864258,0.0038909912109375,0.003975868225097656,0.003145933151245117,0.0033359527587890625,0.003406047821044922,0.003164052963256836,0.0051860809326171875,0.004673004150390625,0.0056378841400146484,0.0029840469360351562,0.0038928985595703125,0.00494694709777832,0.0033469200134277344,0.003202199935913086,0.0033638477325439453,0.003968954086303711,0.0033721923828125,0.003695249557495117,0.0049800872802734375,0.003595113754272461,0.006083011627197266,0.003259897232055664,0.003239154815673828,0.006389617919921875,0.0036020278930664062,0.0034880638122558594,0.002930164337158203,0.003743886947631836,0.003808736801147461,0.003833770751953125,0.007876157760620117,0.0039560794830322266,0.0031697750091552734,0.003376007080078125,0.004426002502441406,0.003718852996826172,0.005448102951049805,0.0028820037841796875,0.004175662994384766,0.0043070316314697266,0.0033729076385498047,0.005103111267089844,0.004179954528808594,0.003857851028442383,0.0041429996490478516,0.003551959991455078,0.004940032958984375,0.00731205940246582,0.006010293960571289,0.0058879852294921875,0.003615856170654297,0.004409074783325195,0.00489497184753418,0.004808902740478516,0.004633188247680664,0.003826141357421875,0.003371000289916992,0.003495931625366211,0.0037310123443603516,0.0038721561431884766,0.0030760765075683594,0.0031080245971679688,0.0031430721282958984,0.005764961242675781,0.0030260086059570312,0.0036880970001220703,0.007771730422973633,0.004083156585693359,0.005080223083496094,0.0034990310668945312,0.0028371810913085938,0.0028879642486572266,0.004762172698974609,0.004091024398803711,0.0034241676330566406,0.004607200622558594,0.003679037094116211,0.004812955856323242,0.003314971923828125,0.0028688907623291016,0.008996009826660156,0.004729032516479492,0.0033469200134277344,0.0030469894409179688,0.004845142364501953,0.004848003387451172,0.004563093185424805,0.0030062198638916016,0.002894163131713867,0.0037927627563476562,0.003464221954345703,0.006979227066040039,0.0030601024627685547,0.003364086151123047,0.0036118030548095703,0.004734039306640625,0.003673076629638672,0.003186941146850586,0.00726318359375,0.0036361217498779297,0.003551006317138672,0.002905130386352539,0.003343820571899414,0.0057070255279541016,0.003512144088745117,0.003975868225097656,0.004556179046630859,0.0061571598052978516,0.01410365104675293,0.002687215805053711,0.0034499168395996094,0.004728078842163086,0.004182100296020508,0.003072023391723633,0.0031371116638183594,0.004683017730712891,0.004002094268798828,0.0035240650177001953,0.004256010055541992,0.004563093185424805,0.0038678646087646484,0.003442049026489258,0.0032651424407958984,0.003551006317138672,0.0035703182220458984,0.004951000213623047,0.0033941268920898438,0.0036149024963378906,0.006513833999633789,0.003412008285522461,0.003651857376098633,0.0034761428833007812,0.002977132797241211,0.004701137542724609,0.004145145416259766,0.004311084747314453,0.004154205322265625,0.0054759979248046875,0.0036497116088867188,0.003634214401245117,0.003072977066040039,0.0038132667541503906,0.0033698081970214844,0.0034139156341552734,0.004061222076416016,0.0033311843872070312,0.0036177635192871094,0.0035247802734375,0.0029730796813964844,0.004523754119873047,0.003246784210205078,0.0032770633697509766,0.004091024398803711,0.003648996353149414,0.005338907241821289,0.004155874252319336,0.003505229949951172,0.004591703414916992,0.002824068069458008,0.00455021858215332,0.0032057762145996094,0.0072481632232666016,0.004813194274902344,0.0034317970275878906,0.00584101676940918,0.005967140197753906,0.004966020584106445,0.0031371116638183594,0.0032629966735839844,0.003362894058227539,0.0038747787475585938,0.005327939987182617,0.0032923221588134766,0.004405021667480469,0.0040607452392578125,0.003667116165161133,0.005545854568481445,0.00406193733215332,0.003818035125732422,0.0038230419158935547,0.0030159950256347656,0.0035600662231445312,0.004268169403076172,0.004906892776489258,0.003721952438354492,0.004930019378662109,0.003491640090942383,0.005151987075805664,0.003158092498779297,0.004537105560302734,0.004498004913330078,0.00485992431640625,0.005915164947509766,0.00461888313293457,0.002984762191772461,0.0042498111724853516,0.0033087730407714844,0.004465341567993164,0.0031270980834960938,0.005023956298828125,0.005171298980712891,0.004126071929931641,0.004045963287353516,0.0043981075286865234,0.004369258880615234,0.0035200119018554688,0.0036170482635498047,0.003187894821166992,0.0038487911224365234,0.0038089752197265625,0.005202770233154297,0.004141092300415039,0.005767107009887695,0.004161834716796875,0.004036903381347656,0.0032470226287841797,0.0030601024627685547,0.0035059452056884766,0.003676891326904297,0.004269123077392578,0.0029439926147460938,0.003428220748901367,0.004940032958984375,0.004114866256713867,0.003116607666015625,0.0027048587799072266,0.0029671192169189453,0.002750873565673828,0.004230022430419922,0.0038383007049560547,0.0030410289764404297,0.004060983657836914,0.004669904708862305,0.0037660598754882812,0.0031440258026123047,0.0043430328369140625,0.003954887390136719,0.004949092864990234,0.0031120777130126953,0.0027818679809570312,0.003001689910888672,0.00430607795715332,0.0054590702056884766,0.0037581920623779297,0.004439115524291992,0.004683971405029297,0.007495880126953125,0.005527973175048828,0.0027878284454345703,0.003940105438232422,0.004678010940551758,0.004055023193359375,0.004133939743041992,0.0057680606842041016,0.004523038864135742,0.0033698081970214844,0.0037450790405273438,0.0029549598693847656,0.004067897796630859,0.004124164581298828,0.003582000732421875,0.0036017894744873047,0.0029151439666748047,0.0038132667541503906,0.003668069839477539,0.0026040077209472656,0.0035598278045654297,0.0050220489501953125,0.0037529468536376953,0.003367900848388672,0.003507852554321289,0.004464149475097656,0.003974199295043945,0.0037550926208496094,0.0030400753021240234,0.0039048194885253906,0.0030908584594726562,0.0031538009643554688,0.003793001174926758,0.0036520957946777344,0.0044901371002197266,0.004503965377807617,0.003949880599975586,0.0030820369720458984,0.0031578540802001953,0.0033957958221435547,0.0035600662231445312,0.004477739334106445,0.004170894622802734,0.004732847213745117,0.003520965576171875,0.003633260726928711,0.005198001861572266,0.013251066207885742,0.004479885101318359,0.003612995147705078,0.003633260726928711,0.0028328895568847656,0.0033371448516845703,0.0034551620483398438,0.004324197769165039],\"yaxis\":\"y\",\"type\":\"scattergl\"},{\"hovertemplate\":\"hop=2<br>pass_=%{x}<br>runtime=%{y}<extra></extra>\",\"legendgroup\":\"2\",\"line\":{\"color\":\"#EF553B\",\"dash\":\"solid\"},\"marker\":{\"symbol\":\"circle\"},\"mode\":\"lines\",\"name\":\"2\",\"showlegend\":true,\"x\":[500,501,502,503,504,505,506,507,508,509,510,511,512,513,514,515,516,517,518,519,520,521,522,523,524,525,526,527,528,529,530,531,532,533,534,535,536,537,538,539,540,541,542,543,544,545,546,547,548,549,550,551,552,553,554,555,556,557,558,559,560,561,562,563,564,565,566,567,568,569,570,571,572,573,574,575,576,577,578,579,580,581,582,583,584,585,586,587,588,589,590,591,592,593,594,595,596,597,598,599,600,601,602,603,604,605,606,607,608,609,610,611,612,613,614,615,616,617,618,619,620,621,622,623,624,625,626,627,628,629,630,631,632,633,634,635,636,637,638,639,640,641,642,643,644,645,646,647,648,649,650,651,652,653,654,655,656,657,658,659,660,661,662,663,664,665,666,667,668,669,670,671,672,673,674,675,676,677,678,679,680,681,682,683,684,685,686,687,688,689,690,691,692,693,694,695,696,697,698,699,700,701,702,703,704,705,706,707,708,709,710,711,712,713,714,715,716,717,718,719,720,721,722,723,724,725,726,727,728,729,730,731,732,733,734,735,736,737,738,739,740,741,742,743,744,745,746,747,748,749,750,751,752,753,754,755,756,757,758,759,760,761,762,763,764,765,766,767,768,769,770,771,772,773,774,775,776,777,778,779,780,781,782,783,784,785,786,787,788,789,790,791,792,793,794,795,796,797,798,799,800,801,802,803,804,805,806,807,808,809,810,811,812,813,814,815,816,817,818,819,820,821,822,823,824,825,826,827,828,829,830,831,832,833,834,835,836,837,838,839,840,841,842,843,844,845,846,847,848,849,850,851,852,853,854,855,856,857,858,859,860,861,862,863,864,865,866,867,868,869,870,871,872,873,874,875,876,877,878,879,880,881,882,883,884,885,886,887,888,889,890,891,892,893,894,895,896,897,898,899,900,901,902,903,904,905,906,907,908,909,910,911,912,913,914,915,916,917,918,919,920,921,922,923,924,925,926,927,928,929,930,931,932,933,934,935,936,937,938,939,940,941,942,943,944,945,946,947,948,949,950,951,952,953,954,955,956,957,958,959,960,961,962,963,964,965,966,967,968,969,970,971,972,973,974,975,976,977,978,979,980,981,982,983,984,985,986,987,988,989,990,991,992,993,994,995,996,997,998,999],\"xaxis\":\"x\",\"y\":[0.05316781997680664,0.20537400245666504,0.15977811813354492,0.23312807083129883,0.12607407569885254,0.09416913986206055,0.0471189022064209,0.15027499198913574,0.12554192543029785,0.0969541072845459,0.10330605506896973,0.1547861099243164,0.13713526725769043,0.007703065872192383,0.14055824279785156,0.0969080924987793,0.13822174072265625,0.03111410140991211,0.020885944366455078,0.3868381977081299,0.17048978805541992,0.11044192314147949,0.09838700294494629,0.412473201751709,0.3069801330566406,0.07352685928344727,0.06251907348632812,0.060830116271972656,0.25614404678344727,0.24704480171203613,0.052438974380493164,0.1260840892791748,0.04737496376037598,0.0432891845703125,0.07996106147766113,0.11259293556213379,0.2696990966796875,0.25904178619384766,0.19874000549316406,0.015060901641845703,0.22616982460021973,0.06554007530212402,0.077239990234375,0.02576589584350586,0.18541479110717773,0.03472900390625,0.1200869083404541,0.05075502395629883,0.18613100051879883,0.3224492073059082,0.13279414176940918,0.2589702606201172,0.07116007804870605,0.20777320861816406,0.03731393814086914,0.33237290382385254,0.21416592597961426,0.18258190155029297,0.014805078506469727,0.04185891151428223,0.06817889213562012,0.1398930549621582,0.0899050235748291,0.20453977584838867,0.13070011138916016,0.19149494171142578,0.0681769847869873,0.04161834716796875,0.034607887268066406,0.28670597076416016,0.10855293273925781,0.12800383567810059,0.7344441413879395,0.1583261489868164,0.39882493019104004,0.1952528953552246,0.055110931396484375,0.2207660675048828,0.08974528312683105,0.0781850814819336,0.21756291389465332,0.12711811065673828,0.10862588882446289,0.31669092178344727,0.17487096786499023,0.2189018726348877,0.2601499557495117,0.12337684631347656,0.058856964111328125,0.062062978744506836,0.07447314262390137,0.1280968189239502,0.11142706871032715,0.4143190383911133,0.04515409469604492,0.8283488750457764,0.11739897727966309,0.06469297409057617,0.2921900749206543,0.3347132205963135,0.19626712799072266,0.22404098510742188,0.2176499366760254,0.15769195556640625,0.08830904960632324,0.18956279754638672,0.0725710391998291,0.04386782646179199,0.13310885429382324,0.057785749435424805,0.1738300323486328,0.06689310073852539,0.0854349136352539,0.058270931243896484,0.20040321350097656,0.1709611415863037,0.2115628719329834,0.10294294357299805,0.05391097068786621,0.08115005493164062,0.22039508819580078,0.05789899826049805,0.12074899673461914,0.15230703353881836,0.11217808723449707,0.2032020092010498,0.11350893974304199,0.18927001953125,0.07996892929077148,0.05430293083190918,0.11228680610656738,0.17403626441955566,0.03920173645019531,0.03745722770690918,0.1530771255493164,0.2295527458190918,0.38373398780822754,0.05503988265991211,0.07668709754943848,0.30135512351989746,0.07959675788879395,0.23137402534484863,0.06647109985351562,0.12318015098571777,0.046987056732177734,0.04715108871459961,0.11948204040527344,0.10459399223327637,0.1154019832611084,0.14657998085021973,0.12894606590270996,0.11928582191467285,0.17196893692016602,0.1707148551940918,0.07469487190246582,0.27696776390075684,0.051223039627075195,0.19245266914367676,0.17415714263916016,0.1527550220489502,0.16721105575561523,0.10547614097595215,0.11068415641784668,0.29459285736083984,0.11250090599060059,0.15776705741882324,0.28186893463134766,0.1458759307861328,0.08835291862487793,0.19800972938537598,0.17963385581970215,0.17590022087097168,0.2660410404205322,0.43907999992370605,0.16610312461853027,0.12326407432556152,0.2971529960632324,0.10444116592407227,0.3666670322418213,0.0585331916809082,0.08736491203308105,0.2779059410095215,0.23832082748413086,0.13697385787963867,0.10174679756164551,0.3275258541107178,0.30963611602783203,0.03864407539367676,0.10613203048706055,0.1402449607849121,0.06660294532775879,0.2178807258605957,0.10475993156433105,0.2921571731567383,0.10515809059143066,0.0933539867401123,0.09593081474304199,0.05116391181945801,0.1568739414215088,0.1218252182006836,0.15932798385620117,0.05793309211730957,0.025909900665283203,0.11351203918457031,0.08389496803283691,0.22913622856140137,0.2838630676269531,0.2077620029449463,0.09451007843017578,0.12948203086853027,0.2906968593597412,0.02149224281311035,0.059417009353637695,0.12072300910949707,0.07281374931335449,0.12299108505249023,0.10977792739868164,0.1720900535583496,0.1514592170715332,0.34871697425842285,0.12384414672851562,0.11870884895324707,0.4310619831085205,0.11748385429382324,0.11809587478637695,0.044625043869018555,0.20850300788879395,0.17873001098632812,0.07800698280334473,0.3975090980529785,0.07046818733215332,0.19697999954223633,0.1466078758239746,0.09396600723266602,0.11958885192871094,0.35915184020996094,0.06930923461914062,0.10507702827453613,0.08343005180358887,0.14485597610473633,0.32938599586486816,0.19187092781066895,0.13408207893371582,0.12567925453186035,0.05754804611206055,0.17534995079040527,0.08816194534301758,0.04175901412963867,0.133652925491333,0.07739686965942383,0.28237009048461914,0.1225428581237793,0.126417875289917,0.3048429489135742,0.14645814895629883,0.043920040130615234,0.10000324249267578,0.04655194282531738,0.14223790168762207,0.01580500602722168,0.07587099075317383,0.13518095016479492,0.25759100914001465,0.049759864807128906,0.052865028381347656,0.2897942066192627,0.056246042251586914,0.24988532066345215,0.10699605941772461,0.08968091011047363,0.10400986671447754,0.2223060131072998,0.09498000144958496,0.1574561595916748,0.17547202110290527,0.0958409309387207,0.15044808387756348,0.04651308059692383,0.04941892623901367,0.40450406074523926,0.2112720012664795,0.06263279914855957,0.08159089088439941,0.30475807189941406,0.27343106269836426,0.08835983276367188,0.045217037200927734,0.05514717102050781,0.18933510780334473,0.09409904479980469,0.48653197288513184,0.049922943115234375,0.08937788009643555,0.19540095329284668,0.2809140682220459,0.09381413459777832,0.13376998901367188,0.3748891353607178,0.029965877532958984,0.10437297821044922,0.13141369819641113,0.09786391258239746,0.3407931327819824,0.15853285789489746,0.057858943939208984,0.22179627418518066,0.11461520195007324,0.6196098327636719,0.01707172393798828,0.1592121124267578,0.16955995559692383,0.2591371536254883,0.13274407386779785,0.07330918312072754,0.242048978805542,0.061489105224609375,0.1692800521850586,0.10613203048706055,0.21514081954956055,0.06644916534423828,0.09586906433105469,0.14857697486877441,0.2724270820617676,0.18684887886047363,0.08721089363098145,0.18323874473571777,0.08651971817016602,0.4551839828491211,0.16152286529541016,0.03618216514587402,0.05438876152038574,0.12243890762329102,0.33230090141296387,0.13048100471496582,0.09210801124572754,0.014863252639770508,0.1920762062072754,0.1634197235107422,0.1195688247680664,0.11055493354797363,0.15047693252563477,0.045189857482910156,0.1348738670349121,0.14476227760314941,0.11473417282104492,0.11297488212585449,0.1277451515197754,0.10568094253540039,0.22558212280273438,0.15213799476623535,0.03405308723449707,0.11934709548950195,0.06830811500549316,0.1408069133758545,0.11983990669250488,0.09115982055664062,0.16498279571533203,0.04674816131591797,0.37803173065185547,0.07768607139587402,0.37295007705688477,0.28983235359191895,0.17204689979553223,0.29382991790771484,0.1531660556793213,0.2344799041748047,0.07326102256774902,0.046037912368774414,0.15504002571105957,0.15844511985778809,0.26906394958496094,0.08330011367797852,0.15703296661376953,0.07672286033630371,0.1566789150238037,0.4194502830505371,0.27341699600219727,0.1553339958190918,0.05941200256347656,0.04781913757324219,0.14636802673339844,0.1742091178894043,0.03394722938537598,0.09400510787963867,0.15866494178771973,0.06269693374633789,0.2533688545227051,0.05909395217895508,0.21626710891723633,0.16650176048278809,0.17237091064453125,0.1336498260498047,0.20445585250854492,0.038514137268066406,0.12864303588867188,0.13527512550354004,0.2800767421722412,0.18754005432128906,0.30774903297424316,0.24254989624023438,0.15245270729064941,0.19561100006103516,0.19319486618041992,0.1535332202911377,0.01268315315246582,0.12703394889831543,0.15708303451538086,0.10714221000671387,0.07182192802429199,0.2524380683898926,0.1780710220336914,0.03302407264709473,0.12943172454833984,0.0862271785736084,0.13135099411010742,0.13554096221923828,0.10005974769592285,0.057691097259521484,0.26618528366088867,0.034677982330322266,0.22868990898132324,0.16270112991333008,0.1906580924987793,0.08763790130615234,0.13534188270568848,0.17060208320617676,0.08911585807800293,0.2065272331237793,0.2017228603363037,0.054780006408691406,0.17042803764343262,0.18772029876708984,0.022706985473632812,0.1520099639892578,0.15131902694702148,0.08699297904968262,0.21811676025390625,0.07580876350402832,0.03889894485473633,0.15105795860290527,0.11434197425842285,0.011849403381347656,0.1707620620727539,0.20322203636169434,0.16310977935791016,0.3663797378540039,0.421522855758667,0.1003572940826416,0.14853310585021973,0.0837099552154541,0.04157614707946777,0.18647480010986328,0.3779759407043457,0.14835715293884277,0.08374595642089844,0.12585926055908203,0.06223487854003906,0.14130401611328125,0.08837509155273438,0.11526799201965332,0.0995340347290039,0.009850025177001953,0.08958983421325684,0.12160587310791016,0.037320852279663086,0.1582028865814209,0.3331921100616455,0.04188871383666992,0.10671210289001465,0.09745407104492188,0.16517877578735352,0.17402291297912598,0.047341108322143555,0.09504818916320801,0.21074414253234863,0.09185004234313965,0.018908023834228516,0.10582923889160156,0.18164396286010742,0.36165904998779297,0.19716906547546387,0.14018607139587402,0.09494924545288086,0.1276993751525879,0.18971514701843262,0.1613926887512207,0.11116290092468262,0.1885361671447754,0.21218490600585938,0.14284300804138184,0.14802885055541992,0.04413628578186035,0.7310299873352051,0.29949498176574707,0.131256103515625,0.09868526458740234,0.09009981155395508,0.13509559631347656,0.12319016456604004,0.13507294654846191],\"yaxis\":\"y\",\"type\":\"scattergl\"},{\"hovertemplate\":\"hop=3<br>pass_=%{x}<br>runtime=%{y}<extra></extra>\",\"legendgroup\":\"3\",\"line\":{\"color\":\"#00cc96\",\"dash\":\"solid\"},\"marker\":{\"symbol\":\"circle\"},\"mode\":\"lines\",\"name\":\"3\",\"showlegend\":true,\"x\":[1000,1001,1002,1003,1004,1005,1006,1007,1008,1009,1010,1011,1012,1013,1014],\"xaxis\":\"x\",\"y\":[7.940245151519775,28.39001178741455,21.072428703308105,32.286004066467285,15.264575004577637,11.36633014678955,4.75609016418457,17.026475191116333,16.711183071136475,12.11021900177002,13.565310955047607,19.69887399673462,20.707349061965942,0.5377552509307861,17.576449155807495],\"yaxis\":\"y\",\"type\":\"scattergl\"}],                        {\"template\":{\"data\":{\"histogram2dcontour\":[{\"type\":\"histogram2dcontour\",\"colorbar\":{\"outlinewidth\":0,\"ticks\":\"\"},\"colorscale\":[[0.0,\"#0d0887\"],[0.1111111111111111,\"#46039f\"],[0.2222222222222222,\"#7201a8\"],[0.3333333333333333,\"#9c179e\"],[0.4444444444444444,\"#bd3786\"],[0.5555555555555556,\"#d8576b\"],[0.6666666666666666,\"#ed7953\"],[0.7777777777777778,\"#fb9f3a\"],[0.8888888888888888,\"#fdca26\"],[1.0,\"#f0f921\"]]}],\"choropleth\":[{\"type\":\"choropleth\",\"colorbar\":{\"outlinewidth\":0,\"ticks\":\"\"}}],\"histogram2d\":[{\"type\":\"histogram2d\",\"colorbar\":{\"outlinewidth\":0,\"ticks\":\"\"},\"colorscale\":[[0.0,\"#0d0887\"],[0.1111111111111111,\"#46039f\"],[0.2222222222222222,\"#7201a8\"],[0.3333333333333333,\"#9c179e\"],[0.4444444444444444,\"#bd3786\"],[0.5555555555555556,\"#d8576b\"],[0.6666666666666666,\"#ed7953\"],[0.7777777777777778,\"#fb9f3a\"],[0.8888888888888888,\"#fdca26\"],[1.0,\"#f0f921\"]]}],\"heatmap\":[{\"type\":\"heatmap\",\"colorbar\":{\"outlinewidth\":0,\"ticks\":\"\"},\"colorscale\":[[0.0,\"#0d0887\"],[0.1111111111111111,\"#46039f\"],[0.2222222222222222,\"#7201a8\"],[0.3333333333333333,\"#9c179e\"],[0.4444444444444444,\"#bd3786\"],[0.5555555555555556,\"#d8576b\"],[0.6666666666666666,\"#ed7953\"],[0.7777777777777778,\"#fb9f3a\"],[0.8888888888888888,\"#fdca26\"],[1.0,\"#f0f921\"]]}],\"heatmapgl\":[{\"type\":\"heatmapgl\",\"colorbar\":{\"outlinewidth\":0,\"ticks\":\"\"},\"colorscale\":[[0.0,\"#0d0887\"],[0.1111111111111111,\"#46039f\"],[0.2222222222222222,\"#7201a8\"],[0.3333333333333333,\"#9c179e\"],[0.4444444444444444,\"#bd3786\"],[0.5555555555555556,\"#d8576b\"],[0.6666666666666666,\"#ed7953\"],[0.7777777777777778,\"#fb9f3a\"],[0.8888888888888888,\"#fdca26\"],[1.0,\"#f0f921\"]]}],\"contourcarpet\":[{\"type\":\"contourcarpet\",\"colorbar\":{\"outlinewidth\":0,\"ticks\":\"\"}}],\"contour\":[{\"type\":\"contour\",\"colorbar\":{\"outlinewidth\":0,\"ticks\":\"\"},\"colorscale\":[[0.0,\"#0d0887\"],[0.1111111111111111,\"#46039f\"],[0.2222222222222222,\"#7201a8\"],[0.3333333333333333,\"#9c179e\"],[0.4444444444444444,\"#bd3786\"],[0.5555555555555556,\"#d8576b\"],[0.6666666666666666,\"#ed7953\"],[0.7777777777777778,\"#fb9f3a\"],[0.8888888888888888,\"#fdca26\"],[1.0,\"#f0f921\"]]}],\"surface\":[{\"type\":\"surface\",\"colorbar\":{\"outlinewidth\":0,\"ticks\":\"\"},\"colorscale\":[[0.0,\"#0d0887\"],[0.1111111111111111,\"#46039f\"],[0.2222222222222222,\"#7201a8\"],[0.3333333333333333,\"#9c179e\"],[0.4444444444444444,\"#bd3786\"],[0.5555555555555556,\"#d8576b\"],[0.6666666666666666,\"#ed7953\"],[0.7777777777777778,\"#fb9f3a\"],[0.8888888888888888,\"#fdca26\"],[1.0,\"#f0f921\"]]}],\"mesh3d\":[{\"type\":\"mesh3d\",\"colorbar\":{\"outlinewidth\":0,\"ticks\":\"\"}}],\"scatter\":[{\"fillpattern\":{\"fillmode\":\"overlay\",\"size\":10,\"solidity\":0.2},\"type\":\"scatter\"}],\"parcoords\":[{\"type\":\"parcoords\",\"line\":{\"colorbar\":{\"outlinewidth\":0,\"ticks\":\"\"}}}],\"scatterpolargl\":[{\"type\":\"scatterpolargl\",\"marker\":{\"colorbar\":{\"outlinewidth\":0,\"ticks\":\"\"}}}],\"bar\":[{\"error_x\":{\"color\":\"#2a3f5f\"},\"error_y\":{\"color\":\"#2a3f5f\"},\"marker\":{\"line\":{\"color\":\"#E5ECF6\",\"width\":0.5},\"pattern\":{\"fillmode\":\"overlay\",\"size\":10,\"solidity\":0.2}},\"type\":\"bar\"}],\"scattergeo\":[{\"type\":\"scattergeo\",\"marker\":{\"colorbar\":{\"outlinewidth\":0,\"ticks\":\"\"}}}],\"scatterpolar\":[{\"type\":\"scatterpolar\",\"marker\":{\"colorbar\":{\"outlinewidth\":0,\"ticks\":\"\"}}}],\"histogram\":[{\"marker\":{\"pattern\":{\"fillmode\":\"overlay\",\"size\":10,\"solidity\":0.2}},\"type\":\"histogram\"}],\"scattergl\":[{\"type\":\"scattergl\",\"marker\":{\"colorbar\":{\"outlinewidth\":0,\"ticks\":\"\"}}}],\"scatter3d\":[{\"type\":\"scatter3d\",\"line\":{\"colorbar\":{\"outlinewidth\":0,\"ticks\":\"\"}},\"marker\":{\"colorbar\":{\"outlinewidth\":0,\"ticks\":\"\"}}}],\"scattermapbox\":[{\"type\":\"scattermapbox\",\"marker\":{\"colorbar\":{\"outlinewidth\":0,\"ticks\":\"\"}}}],\"scatterternary\":[{\"type\":\"scatterternary\",\"marker\":{\"colorbar\":{\"outlinewidth\":0,\"ticks\":\"\"}}}],\"scattercarpet\":[{\"type\":\"scattercarpet\",\"marker\":{\"colorbar\":{\"outlinewidth\":0,\"ticks\":\"\"}}}],\"carpet\":[{\"aaxis\":{\"endlinecolor\":\"#2a3f5f\",\"gridcolor\":\"white\",\"linecolor\":\"white\",\"minorgridcolor\":\"white\",\"startlinecolor\":\"#2a3f5f\"},\"baxis\":{\"endlinecolor\":\"#2a3f5f\",\"gridcolor\":\"white\",\"linecolor\":\"white\",\"minorgridcolor\":\"white\",\"startlinecolor\":\"#2a3f5f\"},\"type\":\"carpet\"}],\"table\":[{\"cells\":{\"fill\":{\"color\":\"#EBF0F8\"},\"line\":{\"color\":\"white\"}},\"header\":{\"fill\":{\"color\":\"#C8D4E3\"},\"line\":{\"color\":\"white\"}},\"type\":\"table\"}],\"barpolar\":[{\"marker\":{\"line\":{\"color\":\"#E5ECF6\",\"width\":0.5},\"pattern\":{\"fillmode\":\"overlay\",\"size\":10,\"solidity\":0.2}},\"type\":\"barpolar\"}],\"pie\":[{\"automargin\":true,\"type\":\"pie\"}]},\"layout\":{\"autotypenumbers\":\"strict\",\"colorway\":[\"#636efa\",\"#EF553B\",\"#00cc96\",\"#ab63fa\",\"#FFA15A\",\"#19d3f3\",\"#FF6692\",\"#B6E880\",\"#FF97FF\",\"#FECB52\"],\"font\":{\"color\":\"#2a3f5f\"},\"hovermode\":\"closest\",\"hoverlabel\":{\"align\":\"left\"},\"paper_bgcolor\":\"white\",\"plot_bgcolor\":\"#E5ECF6\",\"polar\":{\"bgcolor\":\"#E5ECF6\",\"angularaxis\":{\"gridcolor\":\"white\",\"linecolor\":\"white\",\"ticks\":\"\"},\"radialaxis\":{\"gridcolor\":\"white\",\"linecolor\":\"white\",\"ticks\":\"\"}},\"ternary\":{\"bgcolor\":\"#E5ECF6\",\"aaxis\":{\"gridcolor\":\"white\",\"linecolor\":\"white\",\"ticks\":\"\"},\"baxis\":{\"gridcolor\":\"white\",\"linecolor\":\"white\",\"ticks\":\"\"},\"caxis\":{\"gridcolor\":\"white\",\"linecolor\":\"white\",\"ticks\":\"\"}},\"coloraxis\":{\"colorbar\":{\"outlinewidth\":0,\"ticks\":\"\"}},\"colorscale\":{\"sequential\":[[0.0,\"#0d0887\"],[0.1111111111111111,\"#46039f\"],[0.2222222222222222,\"#7201a8\"],[0.3333333333333333,\"#9c179e\"],[0.4444444444444444,\"#bd3786\"],[0.5555555555555556,\"#d8576b\"],[0.6666666666666666,\"#ed7953\"],[0.7777777777777778,\"#fb9f3a\"],[0.8888888888888888,\"#fdca26\"],[1.0,\"#f0f921\"]],\"sequentialminus\":[[0.0,\"#0d0887\"],[0.1111111111111111,\"#46039f\"],[0.2222222222222222,\"#7201a8\"],[0.3333333333333333,\"#9c179e\"],[0.4444444444444444,\"#bd3786\"],[0.5555555555555556,\"#d8576b\"],[0.6666666666666666,\"#ed7953\"],[0.7777777777777778,\"#fb9f3a\"],[0.8888888888888888,\"#fdca26\"],[1.0,\"#f0f921\"]],\"diverging\":[[0,\"#8e0152\"],[0.1,\"#c51b7d\"],[0.2,\"#de77ae\"],[0.3,\"#f1b6da\"],[0.4,\"#fde0ef\"],[0.5,\"#f7f7f7\"],[0.6,\"#e6f5d0\"],[0.7,\"#b8e186\"],[0.8,\"#7fbc41\"],[0.9,\"#4d9221\"],[1,\"#276419\"]]},\"xaxis\":{\"gridcolor\":\"white\",\"linecolor\":\"white\",\"ticks\":\"\",\"title\":{\"standoff\":15},\"zerolinecolor\":\"white\",\"automargin\":true,\"zerolinewidth\":2},\"yaxis\":{\"gridcolor\":\"white\",\"linecolor\":\"white\",\"ticks\":\"\",\"title\":{\"standoff\":15},\"zerolinecolor\":\"white\",\"automargin\":true,\"zerolinewidth\":2},\"scene\":{\"xaxis\":{\"backgroundcolor\":\"#E5ECF6\",\"gridcolor\":\"white\",\"linecolor\":\"white\",\"showbackground\":true,\"ticks\":\"\",\"zerolinecolor\":\"white\",\"gridwidth\":2},\"yaxis\":{\"backgroundcolor\":\"#E5ECF6\",\"gridcolor\":\"white\",\"linecolor\":\"white\",\"showbackground\":true,\"ticks\":\"\",\"zerolinecolor\":\"white\",\"gridwidth\":2},\"zaxis\":{\"backgroundcolor\":\"#E5ECF6\",\"gridcolor\":\"white\",\"linecolor\":\"white\",\"showbackground\":true,\"ticks\":\"\",\"zerolinecolor\":\"white\",\"gridwidth\":2}},\"shapedefaults\":{\"line\":{\"color\":\"#2a3f5f\"}},\"annotationdefaults\":{\"arrowcolor\":\"#2a3f5f\",\"arrowhead\":0,\"arrowwidth\":1},\"geo\":{\"bgcolor\":\"white\",\"landcolor\":\"#E5ECF6\",\"subunitcolor\":\"white\",\"showland\":true,\"showlakes\":true,\"lakecolor\":\"white\"},\"title\":{\"x\":0.05},\"mapbox\":{\"style\":\"light\"}}},\"xaxis\":{\"anchor\":\"y\",\"domain\":[0.0,1.0],\"title\":{\"text\":\"pass_\"}},\"yaxis\":{\"anchor\":\"x\",\"domain\":[0.0,1.0],\"title\":{\"text\":\"runtime\"},\"type\":\"log\"},\"legend\":{\"title\":{\"text\":\"hop\"},\"tracegroupgap\":0},\"margin\":{\"t\":60}},                        {\"responsive\": true}                    ).then(function(){\n                            \nvar gd = document.getElementById('d8d9a8a7-caef-47d5-beb4-8675dba9ec2a');\nvar x = new MutationObserver(function (mutations, observer) {{\n        var display = window.getComputedStyle(gd).display;\n        if (!display || display === 'none') {{\n            console.log([gd, 'removed!']);\n            Plotly.purge(gd);\n            observer.disconnect();\n        }}\n}});\n\n// Listen for the removal of the full notebook cells\nvar notebookContainer = gd.closest('#notebook-container');\nif (notebookContainer) {{\n    x.observe(notebookContainer, {childList: true});\n}}\n\n// Listen for the clearing of the current output cell\nvar outputEl = gd.closest('.output');\nif (outputEl) {{\n    x.observe(outputEl, {childList: true});\n}}\n\n                        })                };                });            </script>        </div>"
     },
     "metadata": {},
     "output_type": "display_data"
    }
   ],
   "source": [
    "agglomerator.metrics.visualize(x='pass_', y='runtime', color='hop', log_y=True)"
   ],
   "metadata": {
    "collapsed": false,
    "ExecuteTime": {
     "start_time": "2023-05-01T21:53:32.775830Z",
     "end_time": "2023-05-01T21:53:32.784264Z"
    }
   }
  },
  {
   "cell_type": "markdown",
   "source": [
    "# Build Meta Relations"
   ],
   "metadata": {
    "collapsed": false
   }
  },
  {
   "cell_type": "code",
   "execution_count": null,
   "outputs": [],
   "source": [],
   "metadata": {
    "collapsed": false
   }
  }
 ],
 "metadata": {
  "kernelspec": {
   "display_name": "Python 3",
   "language": "python",
   "name": "python3"
  },
  "language_info": {
   "codemirror_mode": {
    "name": "ipython",
    "version": 2
   },
   "file_extension": ".py",
   "mimetype": "text/x-python",
   "name": "python",
   "nbconvert_exporter": "python",
   "pygments_lexer": "ipython2",
   "version": "2.7.6"
  }
 },
 "nbformat": 4,
 "nbformat_minor": 0
}
